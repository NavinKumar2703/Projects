{
 "cells": [
  {
   "cell_type": "code",
   "execution_count": 15,
   "id": "d9fbd479",
   "metadata": {},
   "outputs": [],
   "source": [
    "import pandas as pd\n",
    "import numpy as np\n",
    "import matplotlib.pyplot as plt\n",
    "from datetime import datetime, timedelta"
   ]
  },
  {
   "cell_type": "code",
   "execution_count": 16,
   "id": "5ce43c02",
   "metadata": {},
   "outputs": [],
   "source": [
    "ccd = pd.read_excel(r'E:\\Classes\\Python\\New folder\\Python Foundation Case Study 2 - Credit Card Case Study\\Case Study 2 - Credit Card Case Study\\Credit Card Data.xlsx')\n",
    "ca = pd.read_csv(r'E:\\Classes\\Python\\New folder\\Python Foundation Case Study 2 - Credit Card Case Study\\Case Study 2 - Credit Card Case Study\\Customer Acqusition.csv')\n",
    "rp = pd.read_csv(r'E:\\Classes\\Python\\New folder\\Python Foundation Case Study 2 - Credit Card Case Study\\Case Study 2 - Credit Card Case Study\\Repayment.csv')\n",
    "spend = pd.read_csv(r'E:\\Classes\\Python\\New folder\\Python Foundation Case Study 2 - Credit Card Case Study\\Case Study 2 - Credit Card Case Study\\spend.csv')\n"
   ]
  },
  {
   "cell_type": "code",
   "execution_count": 17,
   "id": "5f10de68",
   "metadata": {},
   "outputs": [],
   "source": [
    "ca = ca.drop('No',axis=1)"
   ]
  },
  {
   "cell_type": "code",
   "execution_count": 18,
   "id": "c155eb2f",
   "metadata": {},
   "outputs": [],
   "source": [
    "rp = rp.drop(['Unnamed: 4','SL No:'], axis= 1)"
   ]
  },
  {
   "cell_type": "code",
   "execution_count": 19,
   "id": "e228d62e",
   "metadata": {},
   "outputs": [],
   "source": [
    "rp = rp.dropna()"
   ]
  },
  {
   "cell_type": "code",
   "execution_count": 20,
   "id": "4767bb5f",
   "metadata": {},
   "outputs": [],
   "source": [
    "rp['Month']= rp['Month'].apply(lambda x:pd.to_datetime(x))"
   ]
  },
  {
   "cell_type": "code",
   "execution_count": 21,
   "id": "fa7212b8",
   "metadata": {},
   "outputs": [],
   "source": [
    "spend = spend.drop('Sl No:',axis=1)"
   ]
  },
  {
   "cell_type": "code",
   "execution_count": 22,
   "id": "0babdb93",
   "metadata": {},
   "outputs": [],
   "source": [
    "spend['Month']= spend['Month'].apply(lambda x:pd.to_datetime(x))"
   ]
  },
  {
   "cell_type": "markdown",
   "id": "87f99922",
   "metadata": {},
   "source": [
    "## 1. In the above dataset,\n",
    "## a. In case age is less than 18, replace it with mean of age values."
   ]
  },
  {
   "cell_type": "code",
   "execution_count": 23,
   "id": "616f035e",
   "metadata": {},
   "outputs": [],
   "source": [
    "cust_spend = pd.merge(left= ca,right=spend,on= 'Customer')"
   ]
  },
  {
   "cell_type": "code",
   "execution_count": 24,
   "id": "1e301b10",
   "metadata": {},
   "outputs": [],
   "source": [
    "cust_spend.loc[(cust_spend.Age<18),'Age']=cust_spend.Age.mean()"
   ]
  },
  {
   "cell_type": "markdown",
   "id": "224c7196",
   "metadata": {},
   "source": [
    "## b. In case spend amount is more than the limit, replace it with 50% of that customer’s limit.\n",
    "## (customer’s limit provided in acquisition table is the per transaction limit on his card)"
   ]
  },
  {
   "cell_type": "code",
   "execution_count": 25,
   "id": "1cae1da0",
   "metadata": {},
   "outputs": [
    {
     "name": "stdout",
     "output_type": "stream",
     "text": [
      "<class 'pandas.core.frame.DataFrame'>\n",
      "Int64Index: 1500 entries, 0 to 1499\n",
      "Data columns (total 10 columns):\n",
      " #   Column    Non-Null Count  Dtype         \n",
      "---  ------    --------------  -----         \n",
      " 0   Customer  1500 non-null   object        \n",
      " 1   Age       1500 non-null   float64       \n",
      " 2   City      1500 non-null   object        \n",
      " 3   Product   1500 non-null   object        \n",
      " 4   Limit     1500 non-null   float64       \n",
      " 5   Company   1500 non-null   object        \n",
      " 6   Segment   1500 non-null   object        \n",
      " 7   Month     1500 non-null   datetime64[ns]\n",
      " 8   Type      1500 non-null   object        \n",
      " 9   Amount    1500 non-null   float64       \n",
      "dtypes: datetime64[ns](1), float64(3), object(6)\n",
      "memory usage: 128.9+ KB\n"
     ]
    }
   ],
   "source": [
    "cust_spend.info()"
   ]
  },
  {
   "cell_type": "code",
   "execution_count": 26,
   "id": "121c65ff",
   "metadata": {},
   "outputs": [],
   "source": [
    "cust_spend['Amount']=np.where(cust_spend.Amount>cust_spend.Limit,cust_spend.Limit/2,cust_spend.Amount)"
   ]
  },
  {
   "cell_type": "code",
   "execution_count": 27,
   "id": "84641ac6",
   "metadata": {},
   "outputs": [
    {
     "data": {
      "text/html": [
       "<div>\n",
       "<style scoped>\n",
       "    .dataframe tbody tr th:only-of-type {\n",
       "        vertical-align: middle;\n",
       "    }\n",
       "\n",
       "    .dataframe tbody tr th {\n",
       "        vertical-align: top;\n",
       "    }\n",
       "\n",
       "    .dataframe thead th {\n",
       "        text-align: right;\n",
       "    }\n",
       "</style>\n",
       "<table border=\"1\" class=\"dataframe\">\n",
       "  <thead>\n",
       "    <tr style=\"text-align: right;\">\n",
       "      <th></th>\n",
       "      <th>Customer</th>\n",
       "      <th>Age</th>\n",
       "      <th>City</th>\n",
       "      <th>Product</th>\n",
       "      <th>Limit</th>\n",
       "      <th>Company</th>\n",
       "      <th>Segment</th>\n",
       "      <th>Month</th>\n",
       "      <th>Type</th>\n",
       "      <th>Amount</th>\n",
       "    </tr>\n",
       "  </thead>\n",
       "  <tbody>\n",
       "    <tr>\n",
       "      <th>0</th>\n",
       "      <td>A1</td>\n",
       "      <td>76.0</td>\n",
       "      <td>BANGALORE</td>\n",
       "      <td>Gold</td>\n",
       "      <td>500000.0</td>\n",
       "      <td>C1</td>\n",
       "      <td>Self Employed</td>\n",
       "      <td>2004-01-12</td>\n",
       "      <td>JEWELLERY</td>\n",
       "      <td>485470.80</td>\n",
       "    </tr>\n",
       "    <tr>\n",
       "      <th>1</th>\n",
       "      <td>A1</td>\n",
       "      <td>76.0</td>\n",
       "      <td>BANGALORE</td>\n",
       "      <td>Gold</td>\n",
       "      <td>500000.0</td>\n",
       "      <td>C1</td>\n",
       "      <td>Self Employed</td>\n",
       "      <td>2004-01-03</td>\n",
       "      <td>PETRO</td>\n",
       "      <td>410556.13</td>\n",
       "    </tr>\n",
       "    <tr>\n",
       "      <th>2</th>\n",
       "      <td>A1</td>\n",
       "      <td>76.0</td>\n",
       "      <td>BANGALORE</td>\n",
       "      <td>Gold</td>\n",
       "      <td>500000.0</td>\n",
       "      <td>C1</td>\n",
       "      <td>Self Employed</td>\n",
       "      <td>2004-01-15</td>\n",
       "      <td>CLOTHES</td>\n",
       "      <td>23740.46</td>\n",
       "    </tr>\n",
       "    <tr>\n",
       "      <th>3</th>\n",
       "      <td>A1</td>\n",
       "      <td>76.0</td>\n",
       "      <td>BANGALORE</td>\n",
       "      <td>Gold</td>\n",
       "      <td>500000.0</td>\n",
       "      <td>C1</td>\n",
       "      <td>Self Employed</td>\n",
       "      <td>2004-01-25</td>\n",
       "      <td>FOOD</td>\n",
       "      <td>484342.47</td>\n",
       "    </tr>\n",
       "    <tr>\n",
       "      <th>4</th>\n",
       "      <td>A1</td>\n",
       "      <td>76.0</td>\n",
       "      <td>BANGALORE</td>\n",
       "      <td>Gold</td>\n",
       "      <td>500000.0</td>\n",
       "      <td>C1</td>\n",
       "      <td>Self Employed</td>\n",
       "      <td>2005-01-17</td>\n",
       "      <td>CAMERA</td>\n",
       "      <td>369694.07</td>\n",
       "    </tr>\n",
       "  </tbody>\n",
       "</table>\n",
       "</div>"
      ],
      "text/plain": [
       "  Customer   Age       City Product     Limit Company        Segment  \\\n",
       "0       A1  76.0  BANGALORE    Gold  500000.0      C1  Self Employed   \n",
       "1       A1  76.0  BANGALORE    Gold  500000.0      C1  Self Employed   \n",
       "2       A1  76.0  BANGALORE    Gold  500000.0      C1  Self Employed   \n",
       "3       A1  76.0  BANGALORE    Gold  500000.0      C1  Self Employed   \n",
       "4       A1  76.0  BANGALORE    Gold  500000.0      C1  Self Employed   \n",
       "\n",
       "       Month       Type     Amount  \n",
       "0 2004-01-12  JEWELLERY  485470.80  \n",
       "1 2004-01-03      PETRO  410556.13  \n",
       "2 2004-01-15    CLOTHES   23740.46  \n",
       "3 2004-01-25       FOOD  484342.47  \n",
       "4 2005-01-17     CAMERA  369694.07  "
      ]
     },
     "execution_count": 27,
     "metadata": {},
     "output_type": "execute_result"
    }
   ],
   "source": [
    "cust_spend.head()"
   ]
  },
  {
   "cell_type": "markdown",
   "id": "83b557cf",
   "metadata": {},
   "source": [
    "## c. Incase the repayment amount is more than the limit, replace the repayment with the limit."
   ]
  },
  {
   "cell_type": "code",
   "execution_count": 28,
   "id": "2ccba58a",
   "metadata": {},
   "outputs": [],
   "source": [
    "cust_repayment = pd.merge(left= ca,right=rp,on= 'Customer')"
   ]
  },
  {
   "cell_type": "code",
   "execution_count": 29,
   "id": "64fc91e4",
   "metadata": {},
   "outputs": [
    {
     "name": "stdout",
     "output_type": "stream",
     "text": [
      "<class 'pandas.core.frame.DataFrame'>\n",
      "Int64Index: 1500 entries, 0 to 1499\n",
      "Data columns (total 9 columns):\n",
      " #   Column    Non-Null Count  Dtype         \n",
      "---  ------    --------------  -----         \n",
      " 0   Customer  1500 non-null   object        \n",
      " 1   Age       1500 non-null   int64         \n",
      " 2   City      1500 non-null   object        \n",
      " 3   Product   1500 non-null   object        \n",
      " 4   Limit     1500 non-null   float64       \n",
      " 5   Company   1500 non-null   object        \n",
      " 6   Segment   1500 non-null   object        \n",
      " 7   Month     1500 non-null   datetime64[ns]\n",
      " 8   Amount    1500 non-null   float64       \n",
      "dtypes: datetime64[ns](1), float64(2), int64(1), object(5)\n",
      "memory usage: 117.2+ KB\n"
     ]
    }
   ],
   "source": [
    "cust_repayment.info()"
   ]
  },
  {
   "cell_type": "code",
   "execution_count": 30,
   "id": "6284d558",
   "metadata": {},
   "outputs": [],
   "source": [
    "cust_repayment['Amount']=np.where(cust_repayment.Amount>cust_repayment.Limit,cust_repayment.Limit/2,cust_repayment.Amount)"
   ]
  },
  {
   "cell_type": "code",
   "execution_count": 31,
   "id": "5ef963fe",
   "metadata": {},
   "outputs": [
    {
     "data": {
      "text/html": [
       "<div>\n",
       "<style scoped>\n",
       "    .dataframe tbody tr th:only-of-type {\n",
       "        vertical-align: middle;\n",
       "    }\n",
       "\n",
       "    .dataframe tbody tr th {\n",
       "        vertical-align: top;\n",
       "    }\n",
       "\n",
       "    .dataframe thead th {\n",
       "        text-align: right;\n",
       "    }\n",
       "</style>\n",
       "<table border=\"1\" class=\"dataframe\">\n",
       "  <thead>\n",
       "    <tr style=\"text-align: right;\">\n",
       "      <th></th>\n",
       "      <th>Customer</th>\n",
       "      <th>Age</th>\n",
       "      <th>City</th>\n",
       "      <th>Product</th>\n",
       "      <th>Limit</th>\n",
       "      <th>Company</th>\n",
       "      <th>Segment</th>\n",
       "      <th>Month</th>\n",
       "      <th>Amount</th>\n",
       "    </tr>\n",
       "  </thead>\n",
       "  <tbody>\n",
       "    <tr>\n",
       "      <th>0</th>\n",
       "      <td>A1</td>\n",
       "      <td>76</td>\n",
       "      <td>BANGALORE</td>\n",
       "      <td>Gold</td>\n",
       "      <td>500000.0</td>\n",
       "      <td>C1</td>\n",
       "      <td>Self Employed</td>\n",
       "      <td>2004-01-12</td>\n",
       "      <td>495414.75</td>\n",
       "    </tr>\n",
       "    <tr>\n",
       "      <th>1</th>\n",
       "      <td>A1</td>\n",
       "      <td>76</td>\n",
       "      <td>BANGALORE</td>\n",
       "      <td>Gold</td>\n",
       "      <td>500000.0</td>\n",
       "      <td>C1</td>\n",
       "      <td>Self Employed</td>\n",
       "      <td>2004-01-03</td>\n",
       "      <td>245899.02</td>\n",
       "    </tr>\n",
       "    <tr>\n",
       "      <th>2</th>\n",
       "      <td>A1</td>\n",
       "      <td>76</td>\n",
       "      <td>BANGALORE</td>\n",
       "      <td>Gold</td>\n",
       "      <td>500000.0</td>\n",
       "      <td>C1</td>\n",
       "      <td>Self Employed</td>\n",
       "      <td>2004-01-15</td>\n",
       "      <td>259490.06</td>\n",
       "    </tr>\n",
       "    <tr>\n",
       "      <th>3</th>\n",
       "      <td>A1</td>\n",
       "      <td>76</td>\n",
       "      <td>BANGALORE</td>\n",
       "      <td>Gold</td>\n",
       "      <td>500000.0</td>\n",
       "      <td>C1</td>\n",
       "      <td>Self Employed</td>\n",
       "      <td>2004-01-25</td>\n",
       "      <td>437555.12</td>\n",
       "    </tr>\n",
       "    <tr>\n",
       "      <th>4</th>\n",
       "      <td>A1</td>\n",
       "      <td>76</td>\n",
       "      <td>BANGALORE</td>\n",
       "      <td>Gold</td>\n",
       "      <td>500000.0</td>\n",
       "      <td>C1</td>\n",
       "      <td>Self Employed</td>\n",
       "      <td>2005-01-17</td>\n",
       "      <td>165972.88</td>\n",
       "    </tr>\n",
       "  </tbody>\n",
       "</table>\n",
       "</div>"
      ],
      "text/plain": [
       "  Customer  Age       City Product     Limit Company        Segment  \\\n",
       "0       A1   76  BANGALORE    Gold  500000.0      C1  Self Employed   \n",
       "1       A1   76  BANGALORE    Gold  500000.0      C1  Self Employed   \n",
       "2       A1   76  BANGALORE    Gold  500000.0      C1  Self Employed   \n",
       "3       A1   76  BANGALORE    Gold  500000.0      C1  Self Employed   \n",
       "4       A1   76  BANGALORE    Gold  500000.0      C1  Self Employed   \n",
       "\n",
       "       Month     Amount  \n",
       "0 2004-01-12  495414.75  \n",
       "1 2004-01-03  245899.02  \n",
       "2 2004-01-15  259490.06  \n",
       "3 2004-01-25  437555.12  \n",
       "4 2005-01-17  165972.88  "
      ]
     },
     "execution_count": 31,
     "metadata": {},
     "output_type": "execute_result"
    }
   ],
   "source": [
    "cust_repayment.head()"
   ]
  },
  {
   "cell_type": "markdown",
   "id": "b570e075",
   "metadata": {},
   "source": [
    "## From the above dataset create the following summaries:\n",
    "## a. How many distinct customers exist?"
   ]
  },
  {
   "cell_type": "code",
   "execution_count": 32,
   "id": "54ba01ed",
   "metadata": {},
   "outputs": [
    {
     "data": {
      "text/plain": [
       "100"
      ]
     },
     "execution_count": 32,
     "metadata": {},
     "output_type": "execute_result"
    }
   ],
   "source": [
    "cust_spend['Customer'].drop_duplicates().count()"
   ]
  },
  {
   "cell_type": "code",
   "execution_count": 33,
   "id": "2aeeca96",
   "metadata": {},
   "outputs": [
    {
     "data": {
      "text/plain": [
       "100"
      ]
     },
     "execution_count": 33,
     "metadata": {},
     "output_type": "execute_result"
    }
   ],
   "source": [
    "cust_repayment['Customer'].drop_duplicates().count()"
   ]
  },
  {
   "cell_type": "markdown",
   "id": "0b5fa3cf",
   "metadata": {},
   "source": [
    "## b. How many distinct categories exist?"
   ]
  },
  {
   "cell_type": "code",
   "execution_count": 34,
   "id": "75e2dc64",
   "metadata": {},
   "outputs": [
    {
     "data": {
      "text/plain": [
       "0         Gold\n",
       "18      Silver\n",
       "29    Platimum\n",
       "Name: Product, dtype: object"
      ]
     },
     "execution_count": 34,
     "metadata": {},
     "output_type": "execute_result"
    }
   ],
   "source": [
    "cust_spend['Product'].drop_duplicates()"
   ]
  },
  {
   "cell_type": "code",
   "execution_count": 35,
   "id": "9c1707af",
   "metadata": {},
   "outputs": [
    {
     "data": {
      "text/plain": [
       "0         Gold\n",
       "18      Silver\n",
       "29    Platimum\n",
       "Name: Product, dtype: object"
      ]
     },
     "execution_count": 35,
     "metadata": {},
     "output_type": "execute_result"
    }
   ],
   "source": [
    "cust_repayment['Product'].drop_duplicates()"
   ]
  },
  {
   "cell_type": "markdown",
   "id": "6e786127",
   "metadata": {},
   "source": [
    "## c. What is the average monthly spend by customers?"
   ]
  },
  {
   "cell_type": "code",
   "execution_count": 36,
   "id": "9aad7a91",
   "metadata": {},
   "outputs": [],
   "source": [
    "cust_spend_amount= cust_spend.groupby(['Customer','Month'])[['Amount']].mean().reset_index()\n",
    "cust_spend_amount['Spend_Month']=cust_spend_amount['Month'].apply(lambda x:x.month)\n"
   ]
  },
  {
   "cell_type": "code",
   "execution_count": 37,
   "id": "48aca15f",
   "metadata": {},
   "outputs": [],
   "source": [
    "Avg_Monthly_spend = cust_spend_amount.groupby(['Customer','Spend_Month'])[['Amount']].mean().reset_index()"
   ]
  },
  {
   "cell_type": "code",
   "execution_count": 38,
   "id": "eba9af4f",
   "metadata": {},
   "outputs": [
    {
     "data": {
      "text/html": [
       "<div>\n",
       "<style scoped>\n",
       "    .dataframe tbody tr th:only-of-type {\n",
       "        vertical-align: middle;\n",
       "    }\n",
       "\n",
       "    .dataframe tbody tr th {\n",
       "        vertical-align: top;\n",
       "    }\n",
       "\n",
       "    .dataframe thead th {\n",
       "        text-align: right;\n",
       "    }\n",
       "</style>\n",
       "<table border=\"1\" class=\"dataframe\">\n",
       "  <thead>\n",
       "    <tr style=\"text-align: right;\">\n",
       "      <th></th>\n",
       "      <th>Customer</th>\n",
       "      <th>Spend_Month</th>\n",
       "      <th>Amount</th>\n",
       "    </tr>\n",
       "  </thead>\n",
       "  <tbody>\n",
       "    <tr>\n",
       "      <th>0</th>\n",
       "      <td>A1</td>\n",
       "      <td>1</td>\n",
       "      <td>341332.877000</td>\n",
       "    </tr>\n",
       "    <tr>\n",
       "      <th>1</th>\n",
       "      <td>A1</td>\n",
       "      <td>2</td>\n",
       "      <td>138421.151250</td>\n",
       "    </tr>\n",
       "    <tr>\n",
       "      <th>2</th>\n",
       "      <td>A1</td>\n",
       "      <td>4</td>\n",
       "      <td>261649.250000</td>\n",
       "    </tr>\n",
       "    <tr>\n",
       "      <th>3</th>\n",
       "      <td>A1</td>\n",
       "      <td>5</td>\n",
       "      <td>361141.310000</td>\n",
       "    </tr>\n",
       "    <tr>\n",
       "      <th>4</th>\n",
       "      <td>A1</td>\n",
       "      <td>8</td>\n",
       "      <td>344372.100000</td>\n",
       "    </tr>\n",
       "    <tr>\n",
       "      <th>5</th>\n",
       "      <td>A1</td>\n",
       "      <td>10</td>\n",
       "      <td>244534.680000</td>\n",
       "    </tr>\n",
       "    <tr>\n",
       "      <th>6</th>\n",
       "      <td>A1</td>\n",
       "      <td>11</td>\n",
       "      <td>183839.610000</td>\n",
       "    </tr>\n",
       "    <tr>\n",
       "      <th>7</th>\n",
       "      <td>A10</td>\n",
       "      <td>1</td>\n",
       "      <td>173828.282500</td>\n",
       "    </tr>\n",
       "    <tr>\n",
       "      <th>8</th>\n",
       "      <td>A10</td>\n",
       "      <td>2</td>\n",
       "      <td>170265.770000</td>\n",
       "    </tr>\n",
       "    <tr>\n",
       "      <th>9</th>\n",
       "      <td>A10</td>\n",
       "      <td>3</td>\n",
       "      <td>134631.266667</td>\n",
       "    </tr>\n",
       "  </tbody>\n",
       "</table>\n",
       "</div>"
      ],
      "text/plain": [
       "  Customer  Spend_Month         Amount\n",
       "0       A1            1  341332.877000\n",
       "1       A1            2  138421.151250\n",
       "2       A1            4  261649.250000\n",
       "3       A1            5  361141.310000\n",
       "4       A1            8  344372.100000\n",
       "5       A1           10  244534.680000\n",
       "6       A1           11  183839.610000\n",
       "7      A10            1  173828.282500\n",
       "8      A10            2  170265.770000\n",
       "9      A10            3  134631.266667"
      ]
     },
     "execution_count": 38,
     "metadata": {},
     "output_type": "execute_result"
    }
   ],
   "source": [
    "Avg_Monthly_spend.head(10)"
   ]
  },
  {
   "cell_type": "markdown",
   "id": "de94fc0e",
   "metadata": {},
   "source": [
    "## d. What is the average monthly repayment by customers?"
   ]
  },
  {
   "cell_type": "code",
   "execution_count": 39,
   "id": "a167cb4f",
   "metadata": {},
   "outputs": [],
   "source": [
    "cust_repayment_amount= cust_repayment.groupby(['Customer','Month'])[['Amount']].mean().reset_index()\n",
    "cust_repayment_amount['Repayment_Month']=cust_repayment_amount['Month'].apply(lambda x:x.month)\n",
    "Avg_Monthly_repayment = cust_repayment_amount.groupby(['Customer','Repayment_Month'])[['Amount']].mean().reset_index()"
   ]
  },
  {
   "cell_type": "code",
   "execution_count": 40,
   "id": "1b6e1a0a",
   "metadata": {},
   "outputs": [
    {
     "data": {
      "text/html": [
       "<div>\n",
       "<style scoped>\n",
       "    .dataframe tbody tr th:only-of-type {\n",
       "        vertical-align: middle;\n",
       "    }\n",
       "\n",
       "    .dataframe tbody tr th {\n",
       "        vertical-align: top;\n",
       "    }\n",
       "\n",
       "    .dataframe thead th {\n",
       "        text-align: right;\n",
       "    }\n",
       "</style>\n",
       "<table border=\"1\" class=\"dataframe\">\n",
       "  <thead>\n",
       "    <tr style=\"text-align: right;\">\n",
       "      <th></th>\n",
       "      <th>Customer</th>\n",
       "      <th>Repayment_Month</th>\n",
       "      <th>Amount</th>\n",
       "    </tr>\n",
       "  </thead>\n",
       "  <tbody>\n",
       "    <tr>\n",
       "      <th>0</th>\n",
       "      <td>A1</td>\n",
       "      <td>1</td>\n",
       "      <td>325723.331</td>\n",
       "    </tr>\n",
       "    <tr>\n",
       "      <th>1</th>\n",
       "      <td>A1</td>\n",
       "      <td>2</td>\n",
       "      <td>137713.785</td>\n",
       "    </tr>\n",
       "    <tr>\n",
       "      <th>2</th>\n",
       "      <td>A1</td>\n",
       "      <td>4</td>\n",
       "      <td>254474.580</td>\n",
       "    </tr>\n",
       "    <tr>\n",
       "      <th>3</th>\n",
       "      <td>A1</td>\n",
       "      <td>7</td>\n",
       "      <td>297176.740</td>\n",
       "    </tr>\n",
       "    <tr>\n",
       "      <th>4</th>\n",
       "      <td>A1</td>\n",
       "      <td>9</td>\n",
       "      <td>186427.500</td>\n",
       "    </tr>\n",
       "  </tbody>\n",
       "</table>\n",
       "</div>"
      ],
      "text/plain": [
       "  Customer  Repayment_Month      Amount\n",
       "0       A1                1  325723.331\n",
       "1       A1                2  137713.785\n",
       "2       A1                4  254474.580\n",
       "3       A1                7  297176.740\n",
       "4       A1                9  186427.500"
      ]
     },
     "execution_count": 40,
     "metadata": {},
     "output_type": "execute_result"
    }
   ],
   "source": [
    "Avg_Monthly_repayment.head()"
   ]
  },
  {
   "cell_type": "markdown",
   "id": "34d5bbd1",
   "metadata": {},
   "source": [
    "## e. If the monthly rate of interest is 2.9%, what is the profit for the bank for each month?\n",
    "## (Profit is defined as interest earned on Monthly Profit. Monthly Profit = Monthly repayment– Monthly spend. Interest is earned only on positive profits and not on negative amounts)"
   ]
  },
  {
   "cell_type": "code",
   "execution_count": 41,
   "id": "b3aa55a8",
   "metadata": {},
   "outputs": [],
   "source": [
    "Avg_Monthly_Customers = pd.merge(\n",
    "    left=Avg_Monthly_spend,\n",
    "    right=Avg_Monthly_repayment,\n",
    "    left_on=['Customer', 'Spend_Month'],\n",
    "    right_on=['Customer', 'Repayment_Month']\n",
    ")"
   ]
  },
  {
   "cell_type": "code",
   "execution_count": 42,
   "id": "76ac5683",
   "metadata": {},
   "outputs": [],
   "source": [
    "Avg_Monthly_Customers['Monthly_Profit']=Avg_Monthly_Customers.Amount_y-Avg_Monthly_Customers.Amount_x\n",
    "Avg_Monthly_Customers['Profit']=np.where(Avg_Monthly_Customers['Monthly_Profit']>0,Avg_Monthly_Customers['Monthly_Profit']*2.9/100,np.nan)\n"
   ]
  },
  {
   "cell_type": "code",
   "execution_count": 43,
   "id": "dca8f9af",
   "metadata": {},
   "outputs": [
    {
     "data": {
      "text/html": [
       "<div>\n",
       "<style scoped>\n",
       "    .dataframe tbody tr th:only-of-type {\n",
       "        vertical-align: middle;\n",
       "    }\n",
       "\n",
       "    .dataframe tbody tr th {\n",
       "        vertical-align: top;\n",
       "    }\n",
       "\n",
       "    .dataframe thead th {\n",
       "        text-align: right;\n",
       "    }\n",
       "</style>\n",
       "<table border=\"1\" class=\"dataframe\">\n",
       "  <thead>\n",
       "    <tr style=\"text-align: right;\">\n",
       "      <th></th>\n",
       "      <th>Customer</th>\n",
       "      <th>Spend_Month</th>\n",
       "      <th>Amount_x</th>\n",
       "      <th>Repayment_Month</th>\n",
       "      <th>Amount_y</th>\n",
       "      <th>Monthly_Profit</th>\n",
       "      <th>Profit</th>\n",
       "    </tr>\n",
       "  </thead>\n",
       "  <tbody>\n",
       "    <tr>\n",
       "      <th>0</th>\n",
       "      <td>A1</td>\n",
       "      <td>1</td>\n",
       "      <td>341332.877000</td>\n",
       "      <td>1</td>\n",
       "      <td>325723.331000</td>\n",
       "      <td>-15609.546000</td>\n",
       "      <td>NaN</td>\n",
       "    </tr>\n",
       "    <tr>\n",
       "      <th>1</th>\n",
       "      <td>A1</td>\n",
       "      <td>2</td>\n",
       "      <td>138421.151250</td>\n",
       "      <td>2</td>\n",
       "      <td>137713.785000</td>\n",
       "      <td>-707.366250</td>\n",
       "      <td>NaN</td>\n",
       "    </tr>\n",
       "    <tr>\n",
       "      <th>2</th>\n",
       "      <td>A1</td>\n",
       "      <td>4</td>\n",
       "      <td>261649.250000</td>\n",
       "      <td>4</td>\n",
       "      <td>254474.580000</td>\n",
       "      <td>-7174.670000</td>\n",
       "      <td>NaN</td>\n",
       "    </tr>\n",
       "    <tr>\n",
       "      <th>3</th>\n",
       "      <td>A1</td>\n",
       "      <td>11</td>\n",
       "      <td>183839.610000</td>\n",
       "      <td>11</td>\n",
       "      <td>285729.090000</td>\n",
       "      <td>101889.480000</td>\n",
       "      <td>2954.794920</td>\n",
       "    </tr>\n",
       "    <tr>\n",
       "      <th>4</th>\n",
       "      <td>A10</td>\n",
       "      <td>1</td>\n",
       "      <td>173828.282500</td>\n",
       "      <td>1</td>\n",
       "      <td>283324.721667</td>\n",
       "      <td>109496.439167</td>\n",
       "      <td>3175.396736</td>\n",
       "    </tr>\n",
       "    <tr>\n",
       "      <th>5</th>\n",
       "      <td>A10</td>\n",
       "      <td>2</td>\n",
       "      <td>170265.770000</td>\n",
       "      <td>2</td>\n",
       "      <td>217344.503333</td>\n",
       "      <td>47078.733333</td>\n",
       "      <td>1365.283267</td>\n",
       "    </tr>\n",
       "    <tr>\n",
       "      <th>6</th>\n",
       "      <td>A10</td>\n",
       "      <td>3</td>\n",
       "      <td>134631.266667</td>\n",
       "      <td>3</td>\n",
       "      <td>240130.543333</td>\n",
       "      <td>105499.276667</td>\n",
       "      <td>3059.479023</td>\n",
       "    </tr>\n",
       "    <tr>\n",
       "      <th>7</th>\n",
       "      <td>A10</td>\n",
       "      <td>4</td>\n",
       "      <td>270721.680000</td>\n",
       "      <td>4</td>\n",
       "      <td>120467.322500</td>\n",
       "      <td>-150254.357500</td>\n",
       "      <td>NaN</td>\n",
       "    </tr>\n",
       "    <tr>\n",
       "      <th>8</th>\n",
       "      <td>A10</td>\n",
       "      <td>5</td>\n",
       "      <td>189207.392500</td>\n",
       "      <td>5</td>\n",
       "      <td>98672.695000</td>\n",
       "      <td>-90534.697500</td>\n",
       "      <td>NaN</td>\n",
       "    </tr>\n",
       "    <tr>\n",
       "      <th>9</th>\n",
       "      <td>A10</td>\n",
       "      <td>7</td>\n",
       "      <td>239798.030000</td>\n",
       "      <td>7</td>\n",
       "      <td>358194.650000</td>\n",
       "      <td>118396.620000</td>\n",
       "      <td>3433.501980</td>\n",
       "    </tr>\n",
       "  </tbody>\n",
       "</table>\n",
       "</div>"
      ],
      "text/plain": [
       "  Customer  Spend_Month       Amount_x  Repayment_Month       Amount_y  \\\n",
       "0       A1            1  341332.877000                1  325723.331000   \n",
       "1       A1            2  138421.151250                2  137713.785000   \n",
       "2       A1            4  261649.250000                4  254474.580000   \n",
       "3       A1           11  183839.610000               11  285729.090000   \n",
       "4      A10            1  173828.282500                1  283324.721667   \n",
       "5      A10            2  170265.770000                2  217344.503333   \n",
       "6      A10            3  134631.266667                3  240130.543333   \n",
       "7      A10            4  270721.680000                4  120467.322500   \n",
       "8      A10            5  189207.392500                5   98672.695000   \n",
       "9      A10            7  239798.030000                7  358194.650000   \n",
       "\n",
       "   Monthly_Profit       Profit  \n",
       "0   -15609.546000          NaN  \n",
       "1     -707.366250          NaN  \n",
       "2    -7174.670000          NaN  \n",
       "3   101889.480000  2954.794920  \n",
       "4   109496.439167  3175.396736  \n",
       "5    47078.733333  1365.283267  \n",
       "6   105499.276667  3059.479023  \n",
       "7  -150254.357500          NaN  \n",
       "8   -90534.697500          NaN  \n",
       "9   118396.620000  3433.501980  "
      ]
     },
     "execution_count": 43,
     "metadata": {},
     "output_type": "execute_result"
    }
   ],
   "source": [
    "Avg_Monthly_Customers.head(10)"
   ]
  },
  {
   "cell_type": "markdown",
   "id": "07ea96dd",
   "metadata": {},
   "source": [
    "## f. What are the top 5 product types?"
   ]
  },
  {
   "cell_type": "code",
   "execution_count": 44,
   "id": "fd2b8791",
   "metadata": {},
   "outputs": [
    {
     "data": {
      "text/html": [
       "<div>\n",
       "<style scoped>\n",
       "    .dataframe tbody tr th:only-of-type {\n",
       "        vertical-align: middle;\n",
       "    }\n",
       "\n",
       "    .dataframe tbody tr th {\n",
       "        vertical-align: top;\n",
       "    }\n",
       "\n",
       "    .dataframe thead th {\n",
       "        text-align: right;\n",
       "    }\n",
       "</style>\n",
       "<table border=\"1\" class=\"dataframe\">\n",
       "  <thead>\n",
       "    <tr style=\"text-align: right;\">\n",
       "      <th></th>\n",
       "      <th>Type</th>\n",
       "      <th>Amount</th>\n",
       "    </tr>\n",
       "  </thead>\n",
       "  <tbody>\n",
       "    <tr>\n",
       "      <th>10</th>\n",
       "      <td>PETRO</td>\n",
       "      <td>28597384.98</td>\n",
       "    </tr>\n",
       "    <tr>\n",
       "      <th>4</th>\n",
       "      <td>CAMERA</td>\n",
       "      <td>27690738.44</td>\n",
       "    </tr>\n",
       "    <tr>\n",
       "      <th>7</th>\n",
       "      <td>FOOD</td>\n",
       "      <td>20519243.60</td>\n",
       "    </tr>\n",
       "    <tr>\n",
       "      <th>0</th>\n",
       "      <td>AIR TICKET</td>\n",
       "      <td>20155847.12</td>\n",
       "    </tr>\n",
       "    <tr>\n",
       "      <th>14</th>\n",
       "      <td>TRAIN TICKET</td>\n",
       "      <td>19995825.72</td>\n",
       "    </tr>\n",
       "    <tr>\n",
       "      <th>13</th>\n",
       "      <td>SHOPPING</td>\n",
       "      <td>17106660.97</td>\n",
       "    </tr>\n",
       "    <tr>\n",
       "      <th>3</th>\n",
       "      <td>BUS TICKET</td>\n",
       "      <td>16279935.35</td>\n",
       "    </tr>\n",
       "    <tr>\n",
       "      <th>9</th>\n",
       "      <td>MOVIE TICKET</td>\n",
       "      <td>13001899.29</td>\n",
       "    </tr>\n",
       "    <tr>\n",
       "      <th>6</th>\n",
       "      <td>CLOTHES</td>\n",
       "      <td>12302511.36</td>\n",
       "    </tr>\n",
       "    <tr>\n",
       "      <th>11</th>\n",
       "      <td>RENTAL</td>\n",
       "      <td>11850628.72</td>\n",
       "    </tr>\n",
       "    <tr>\n",
       "      <th>8</th>\n",
       "      <td>JEWELLERY</td>\n",
       "      <td>11507786.00</td>\n",
       "    </tr>\n",
       "    <tr>\n",
       "      <th>2</th>\n",
       "      <td>BIKE</td>\n",
       "      <td>7009789.53</td>\n",
       "    </tr>\n",
       "    <tr>\n",
       "      <th>5</th>\n",
       "      <td>CAR</td>\n",
       "      <td>5107867.45</td>\n",
       "    </tr>\n",
       "    <tr>\n",
       "      <th>1</th>\n",
       "      <td>AUTO</td>\n",
       "      <td>4806060.41</td>\n",
       "    </tr>\n",
       "    <tr>\n",
       "      <th>12</th>\n",
       "      <td>SANDALS</td>\n",
       "      <td>3848906.29</td>\n",
       "    </tr>\n",
       "  </tbody>\n",
       "</table>\n",
       "</div>"
      ],
      "text/plain": [
       "            Type       Amount\n",
       "10         PETRO  28597384.98\n",
       "4         CAMERA  27690738.44\n",
       "7           FOOD  20519243.60\n",
       "0     AIR TICKET  20155847.12\n",
       "14  TRAIN TICKET  19995825.72\n",
       "13      SHOPPING  17106660.97\n",
       "3     BUS TICKET  16279935.35\n",
       "9   MOVIE TICKET  13001899.29\n",
       "6        CLOTHES  12302511.36\n",
       "11        RENTAL  11850628.72\n",
       "8      JEWELLERY  11507786.00\n",
       "2           BIKE   7009789.53\n",
       "5            CAR   5107867.45\n",
       "1           AUTO   4806060.41\n",
       "12       SANDALS   3848906.29"
      ]
     },
     "execution_count": 44,
     "metadata": {},
     "output_type": "execute_result"
    }
   ],
   "source": [
    "cust_spend.groupby('Type').Amount.sum().reset_index().sort_values('Amount',ascending= False)"
   ]
  },
  {
   "cell_type": "markdown",
   "id": "735c788d",
   "metadata": {},
   "source": [
    "## g. Which city is having maximum spend?"
   ]
  },
  {
   "cell_type": "code",
   "execution_count": 45,
   "id": "fb08025b",
   "metadata": {},
   "outputs": [
    {
     "data": {
      "text/html": [
       "<div>\n",
       "<style scoped>\n",
       "    .dataframe tbody tr th:only-of-type {\n",
       "        vertical-align: middle;\n",
       "    }\n",
       "\n",
       "    .dataframe tbody tr th {\n",
       "        vertical-align: top;\n",
       "    }\n",
       "\n",
       "    .dataframe thead th {\n",
       "        text-align: right;\n",
       "    }\n",
       "</style>\n",
       "<table border=\"1\" class=\"dataframe\">\n",
       "  <thead>\n",
       "    <tr style=\"text-align: right;\">\n",
       "      <th></th>\n",
       "      <th>City</th>\n",
       "      <th>Amount</th>\n",
       "    </tr>\n",
       "  </thead>\n",
       "  <tbody>\n",
       "    <tr>\n",
       "      <th>4</th>\n",
       "      <td>COCHIN</td>\n",
       "      <td>45963513.50</td>\n",
       "    </tr>\n",
       "    <tr>\n",
       "      <th>2</th>\n",
       "      <td>CALCUTTA</td>\n",
       "      <td>41108132.30</td>\n",
       "    </tr>\n",
       "    <tr>\n",
       "      <th>0</th>\n",
       "      <td>BANGALORE</td>\n",
       "      <td>40461647.02</td>\n",
       "    </tr>\n",
       "    <tr>\n",
       "      <th>1</th>\n",
       "      <td>BOMBAY</td>\n",
       "      <td>28603127.38</td>\n",
       "    </tr>\n",
       "    <tr>\n",
       "      <th>3</th>\n",
       "      <td>CHENNAI</td>\n",
       "      <td>22128635.65</td>\n",
       "    </tr>\n",
       "    <tr>\n",
       "      <th>7</th>\n",
       "      <td>TRIVANDRUM</td>\n",
       "      <td>15337155.87</td>\n",
       "    </tr>\n",
       "    <tr>\n",
       "      <th>6</th>\n",
       "      <td>PATNA</td>\n",
       "      <td>15260586.97</td>\n",
       "    </tr>\n",
       "    <tr>\n",
       "      <th>5</th>\n",
       "      <td>DELHI</td>\n",
       "      <td>10918286.54</td>\n",
       "    </tr>\n",
       "  </tbody>\n",
       "</table>\n",
       "</div>"
      ],
      "text/plain": [
       "         City       Amount\n",
       "4      COCHIN  45963513.50\n",
       "2    CALCUTTA  41108132.30\n",
       "0   BANGALORE  40461647.02\n",
       "1      BOMBAY  28603127.38\n",
       "3     CHENNAI  22128635.65\n",
       "7  TRIVANDRUM  15337155.87\n",
       "6       PATNA  15260586.97\n",
       "5       DELHI  10918286.54"
      ]
     },
     "execution_count": 45,
     "metadata": {},
     "output_type": "execute_result"
    }
   ],
   "source": [
    "cust_spend.groupby('City').Amount.sum().reset_index().sort_values('Amount',ascending= False)"
   ]
  },
  {
   "cell_type": "markdown",
   "id": "0d5e343d",
   "metadata": {},
   "source": [
    "## h. Which age group is spending more money?"
   ]
  },
  {
   "cell_type": "code",
   "execution_count": 46,
   "id": "91e84634",
   "metadata": {},
   "outputs": [],
   "source": [
    "cust_spend['Age_Group']=np.where(((cust_spend.Age.astype(int) >= 18) & (cust_spend.Age.astype(int) < 25)), 'Youth',np.where(((cust_spend.Age.astype(int) >= 25) & (cust_spend.Age.astype(int) < 65)), 'Adult','Senior'))"
   ]
  },
  {
   "cell_type": "code",
   "execution_count": 47,
   "id": "cd6e3d56",
   "metadata": {},
   "outputs": [
    {
     "data": {
      "text/plain": [
       "Age_Group\n",
       "Adult     1.674181e+08\n",
       "Senior    3.768249e+07\n",
       "Youth     1.468050e+07\n",
       "Name: Amount, dtype: float64"
      ]
     },
     "execution_count": 47,
     "metadata": {},
     "output_type": "execute_result"
    }
   ],
   "source": [
    "cust_spend.groupby('Age_Group').Amount.sum()"
   ]
  },
  {
   "cell_type": "markdown",
   "id": "761c080d",
   "metadata": {},
   "source": [
    "## i. Who are the top 10 customers in terms of repayment?"
   ]
  },
  {
   "cell_type": "code",
   "execution_count": 48,
   "id": "9e415bf6",
   "metadata": {},
   "outputs": [
    {
     "data": {
      "text/html": [
       "<div>\n",
       "<style scoped>\n",
       "    .dataframe tbody tr th:only-of-type {\n",
       "        vertical-align: middle;\n",
       "    }\n",
       "\n",
       "    .dataframe tbody tr th {\n",
       "        vertical-align: top;\n",
       "    }\n",
       "\n",
       "    .dataframe thead th {\n",
       "        text-align: right;\n",
       "    }\n",
       "</style>\n",
       "<table border=\"1\" class=\"dataframe\">\n",
       "  <thead>\n",
       "    <tr style=\"text-align: right;\">\n",
       "      <th></th>\n",
       "      <th>Customer</th>\n",
       "      <th>Amount</th>\n",
       "    </tr>\n",
       "  </thead>\n",
       "  <tbody>\n",
       "    <tr>\n",
       "      <th>58</th>\n",
       "      <td>A61</td>\n",
       "      <td>10539142.91</td>\n",
       "    </tr>\n",
       "    <tr>\n",
       "      <th>57</th>\n",
       "      <td>A60</td>\n",
       "      <td>9876290.74</td>\n",
       "    </tr>\n",
       "    <tr>\n",
       "      <th>5</th>\n",
       "      <td>A13</td>\n",
       "      <td>9572000.66</td>\n",
       "    </tr>\n",
       "    <tr>\n",
       "      <th>38</th>\n",
       "      <td>A43</td>\n",
       "      <td>8489871.46</td>\n",
       "    </tr>\n",
       "    <tr>\n",
       "      <th>40</th>\n",
       "      <td>A45</td>\n",
       "      <td>8448334.87</td>\n",
       "    </tr>\n",
       "    <tr>\n",
       "      <th>4</th>\n",
       "      <td>A12</td>\n",
       "      <td>8334760.16</td>\n",
       "    </tr>\n",
       "    <tr>\n",
       "      <th>6</th>\n",
       "      <td>A14</td>\n",
       "      <td>7943268.63</td>\n",
       "    </tr>\n",
       "    <tr>\n",
       "      <th>39</th>\n",
       "      <td>A44</td>\n",
       "      <td>7744730.12</td>\n",
       "    </tr>\n",
       "    <tr>\n",
       "      <th>33</th>\n",
       "      <td>A39</td>\n",
       "      <td>7622483.30</td>\n",
       "    </tr>\n",
       "    <tr>\n",
       "      <th>37</th>\n",
       "      <td>A42</td>\n",
       "      <td>7615460.86</td>\n",
       "    </tr>\n",
       "  </tbody>\n",
       "</table>\n",
       "</div>"
      ],
      "text/plain": [
       "   Customer       Amount\n",
       "58      A61  10539142.91\n",
       "57      A60   9876290.74\n",
       "5       A13   9572000.66\n",
       "38      A43   8489871.46\n",
       "40      A45   8448334.87\n",
       "4       A12   8334760.16\n",
       "6       A14   7943268.63\n",
       "39      A44   7744730.12\n",
       "33      A39   7622483.30\n",
       "37      A42   7615460.86"
      ]
     },
     "execution_count": 48,
     "metadata": {},
     "output_type": "execute_result"
    }
   ],
   "source": [
    "cust_repayment.groupby('Customer').Amount.sum().reset_index().sort_values('Amount',ascending=False).head(10)"
   ]
  },
  {
   "cell_type": "markdown",
   "id": "b786bf68",
   "metadata": {},
   "source": [
    "## 3. Calculate the city wise spend on each product on yearly basis. Also include a graphical representation for the same."
   ]
  },
  {
   "cell_type": "code",
   "execution_count": 49,
   "id": "8fd0b571",
   "metadata": {},
   "outputs": [
    {
     "data": {
      "text/html": [
       "<div>\n",
       "<style scoped>\n",
       "    .dataframe tbody tr th:only-of-type {\n",
       "        vertical-align: middle;\n",
       "    }\n",
       "\n",
       "    .dataframe tbody tr th {\n",
       "        vertical-align: top;\n",
       "    }\n",
       "\n",
       "    .dataframe thead tr th {\n",
       "        text-align: left;\n",
       "    }\n",
       "\n",
       "    .dataframe thead tr:last-of-type th {\n",
       "        text-align: right;\n",
       "    }\n",
       "</style>\n",
       "<table border=\"1\" class=\"dataframe\">\n",
       "  <thead>\n",
       "    <tr>\n",
       "      <th>Product</th>\n",
       "      <th colspan=\"3\" halign=\"left\">Gold</th>\n",
       "      <th colspan=\"3\" halign=\"left\">Platimum</th>\n",
       "      <th colspan=\"3\" halign=\"left\">Silver</th>\n",
       "    </tr>\n",
       "    <tr>\n",
       "      <th>Yearly_Spend</th>\n",
       "      <th>2004</th>\n",
       "      <th>2005</th>\n",
       "      <th>2006</th>\n",
       "      <th>2004</th>\n",
       "      <th>2005</th>\n",
       "      <th>2006</th>\n",
       "      <th>2004</th>\n",
       "      <th>2005</th>\n",
       "      <th>2006</th>\n",
       "    </tr>\n",
       "    <tr>\n",
       "      <th>City</th>\n",
       "      <th></th>\n",
       "      <th></th>\n",
       "      <th></th>\n",
       "      <th></th>\n",
       "      <th></th>\n",
       "      <th></th>\n",
       "      <th></th>\n",
       "      <th></th>\n",
       "      <th></th>\n",
       "    </tr>\n",
       "  </thead>\n",
       "  <tbody>\n",
       "    <tr>\n",
       "      <th>BANGALORE</th>\n",
       "      <td>9289878.54</td>\n",
       "      <td>12892362.99</td>\n",
       "      <td>12030611.09</td>\n",
       "      <td>1112732.30</td>\n",
       "      <td>912284.97</td>\n",
       "      <td>685831.27</td>\n",
       "      <td>1291852.58</td>\n",
       "      <td>830612.34</td>\n",
       "      <td>1415480.94</td>\n",
       "    </tr>\n",
       "    <tr>\n",
       "      <th>BOMBAY</th>\n",
       "      <td>6987853.53</td>\n",
       "      <td>8983018.28</td>\n",
       "      <td>7917144.31</td>\n",
       "      <td>897264.94</td>\n",
       "      <td>711804.94</td>\n",
       "      <td>972130.01</td>\n",
       "      <td>532089.03</td>\n",
       "      <td>508988.54</td>\n",
       "      <td>1092833.80</td>\n",
       "    </tr>\n",
       "    <tr>\n",
       "      <th>CALCUTTA</th>\n",
       "      <td>7477140.98</td>\n",
       "      <td>10303355.80</td>\n",
       "      <td>11167532.77</td>\n",
       "      <td>2037690.30</td>\n",
       "      <td>4434696.31</td>\n",
       "      <td>3589606.66</td>\n",
       "      <td>500006.00</td>\n",
       "      <td>440147.06</td>\n",
       "      <td>1157956.42</td>\n",
       "    </tr>\n",
       "    <tr>\n",
       "      <th>CHENNAI</th>\n",
       "      <td>1059618.50</td>\n",
       "      <td>3740945.58</td>\n",
       "      <td>2704288.62</td>\n",
       "      <td>3535652.38</td>\n",
       "      <td>5053956.32</td>\n",
       "      <td>5024923.40</td>\n",
       "      <td>282056.86</td>\n",
       "      <td>377184.49</td>\n",
       "      <td>350009.50</td>\n",
       "    </tr>\n",
       "    <tr>\n",
       "      <th>COCHIN</th>\n",
       "      <td>7315850.15</td>\n",
       "      <td>12110613.03</td>\n",
       "      <td>10499142.38</td>\n",
       "      <td>3419904.07</td>\n",
       "      <td>4960921.71</td>\n",
       "      <td>4920592.29</td>\n",
       "      <td>814229.62</td>\n",
       "      <td>652269.38</td>\n",
       "      <td>1269990.87</td>\n",
       "    </tr>\n",
       "    <tr>\n",
       "      <th>DELHI</th>\n",
       "      <td>2806495.00</td>\n",
       "      <td>1964845.27</td>\n",
       "      <td>2957103.32</td>\n",
       "      <td>283512.89</td>\n",
       "      <td>494157.86</td>\n",
       "      <td>176788.72</td>\n",
       "      <td>768172.30</td>\n",
       "      <td>612311.21</td>\n",
       "      <td>854899.97</td>\n",
       "    </tr>\n",
       "    <tr>\n",
       "      <th>PATNA</th>\n",
       "      <td>2072567.90</td>\n",
       "      <td>3252615.77</td>\n",
       "      <td>2276181.69</td>\n",
       "      <td>1113069.60</td>\n",
       "      <td>2883231.07</td>\n",
       "      <td>1256137.65</td>\n",
       "      <td>756684.10</td>\n",
       "      <td>950094.19</td>\n",
       "      <td>700005.00</td>\n",
       "    </tr>\n",
       "    <tr>\n",
       "      <th>TRIVANDRUM</th>\n",
       "      <td>2415102.84</td>\n",
       "      <td>1240375.85</td>\n",
       "      <td>2735710.87</td>\n",
       "      <td>2161676.67</td>\n",
       "      <td>3601443.30</td>\n",
       "      <td>2147403.75</td>\n",
       "      <td>209667.48</td>\n",
       "      <td>269912.99</td>\n",
       "      <td>555862.12</td>\n",
       "    </tr>\n",
       "  </tbody>\n",
       "</table>\n",
       "</div>"
      ],
      "text/plain": [
       "Product             Gold                              Platimum              \\\n",
       "Yearly_Spend        2004         2005         2006        2004        2005   \n",
       "City                                                                         \n",
       "BANGALORE     9289878.54  12892362.99  12030611.09  1112732.30   912284.97   \n",
       "BOMBAY        6987853.53   8983018.28   7917144.31   897264.94   711804.94   \n",
       "CALCUTTA      7477140.98  10303355.80  11167532.77  2037690.30  4434696.31   \n",
       "CHENNAI       1059618.50   3740945.58   2704288.62  3535652.38  5053956.32   \n",
       "COCHIN        7315850.15  12110613.03  10499142.38  3419904.07  4960921.71   \n",
       "DELHI         2806495.00   1964845.27   2957103.32   283512.89   494157.86   \n",
       "PATNA         2072567.90   3252615.77   2276181.69  1113069.60  2883231.07   \n",
       "TRIVANDRUM    2415102.84   1240375.85   2735710.87  2161676.67  3601443.30   \n",
       "\n",
       "Product                       Silver                         \n",
       "Yearly_Spend        2006        2004       2005        2006  \n",
       "City                                                         \n",
       "BANGALORE      685831.27  1291852.58  830612.34  1415480.94  \n",
       "BOMBAY         972130.01   532089.03  508988.54  1092833.80  \n",
       "CALCUTTA      3589606.66   500006.00  440147.06  1157956.42  \n",
       "CHENNAI       5024923.40   282056.86  377184.49   350009.50  \n",
       "COCHIN        4920592.29   814229.62  652269.38  1269990.87  \n",
       "DELHI          176788.72   768172.30  612311.21   854899.97  \n",
       "PATNA         1256137.65   756684.10  950094.19   700005.00  \n",
       "TRIVANDRUM    2147403.75   209667.48  269912.99   555862.12  "
      ]
     },
     "execution_count": 49,
     "metadata": {},
     "output_type": "execute_result"
    }
   ],
   "source": [
    "cust_spend['Yearly_Spend']=cust_spend['Month'].apply(lambda x:x.year)\n",
    "City_Wise_Data = pd.pivot_table(data = cust_spend, index = 'City', columns=['Product','Yearly_Spend'],values ='Amount', aggfunc='sum')\n",
    "City_Wise_Data"
   ]
  },
  {
   "cell_type": "code",
   "execution_count": 50,
   "id": "1b156358",
   "metadata": {},
   "outputs": [
    {
     "data": {
      "text/plain": [
       "<Axes: xlabel='City'>"
      ]
     },
     "execution_count": 50,
     "metadata": {},
     "output_type": "execute_result"
    },
    {
     "data": {
      "image/png": "[encoded data removed]",
      "text/plain": [
       "<Figure size 640x480 with 1 Axes>"
      ]
     },
     "metadata": {},
     "output_type": "display_data"
    }
   ],
   "source": [
    "City_Wise_Data.plot(kind='bar',stacked=True)\n"
   ]
  },
  {
   "cell_type": "markdown",
   "id": "a8ad3718",
   "metadata": {},
   "source": [
    "### 4. Create graphs for\n",
    "### a. Monthly comparison of total spends, city wise"
   ]
  },
  {
   "cell_type": "code",
   "execution_count": 51,
   "id": "ac02b80b",
   "metadata": {},
   "outputs": [],
   "source": [
    "cust_spend['Monthly_Spend']=cust_spend.Month.apply(lambda x:x.month)"
   ]
  },
  {
   "cell_type": "code",
   "execution_count": 52,
   "id": "76f0c91c",
   "metadata": {},
   "outputs": [
    {
     "data": {
      "text/plain": [
       "<Axes: xlabel='City'>"
      ]
     },
     "execution_count": 52,
     "metadata": {},
     "output_type": "execute_result"
    },
    {
     "data": {
      "image/png": "[encoded data removed]",
      "text/plain": [
       "<Figure size 640x480 with 1 Axes>"
      ]
     },
     "metadata": {},
     "output_type": "display_data"
    }
   ],
   "source": [
    "pd.pivot_table(data = cust_spend, index = 'City', columns='Monthly_Spend',\n",
    "                   values='Amount', aggfunc='sum').plot(kind='bar',stacked=True)"
   ]
  },
  {
   "cell_type": "markdown",
   "id": "f971e916",
   "metadata": {},
   "source": [
    "### b. Comparison of yearly spend on air tickets"
   ]
  },
  {
   "cell_type": "code",
   "execution_count": 53,
   "id": "a175610e",
   "metadata": {},
   "outputs": [
    {
     "data": {
      "text/plain": [
       "<Axes: xlabel='Type'>"
      ]
     },
     "execution_count": 53,
     "metadata": {},
     "output_type": "execute_result"
    },
    {
     "data": {
      "image/png": "[encoded data removed]",
      "text/plain": [
       "<Figure size 640x480 with 1 Axes>"
      ]
     },
     "metadata": {},
     "output_type": "display_data"
    }
   ],
   "source": [
    "pd.pivot_table(data = cust_spend[cust_spend.Type=='AIR TICKET'], index = 'Type', columns='Yearly_Spend',\n",
    "                   values='Amount', aggfunc='sum').plot(kind='bar')"
   ]
  },
  {
   "cell_type": "markdown",
   "id": "c181f786",
   "metadata": {},
   "source": [
    "## c. Comparison of monthly spend for each product (look for any seasonality that exists in terms of spend)"
   ]
  },
  {
   "cell_type": "code",
   "execution_count": 54,
   "id": "0d6301e0",
   "metadata": {},
   "outputs": [
    {
     "data": {
      "text/plain": [
       "<Axes: xlabel='Product'>"
      ]
     },
     "execution_count": 54,
     "metadata": {},
     "output_type": "execute_result"
    },
    {
     "data": {
      "image/png": "[encoded data removed]",
      "text/plain": [
       "<Figure size 640x480 with 1 Axes>"
      ]
     },
     "metadata": {},
     "output_type": "display_data"
    }
   ],
   "source": [
    "pd.pivot_table(data = cust_spend, index = 'Product', columns='Monthly_Spend',\n",
    "                   values='Amount', aggfunc='sum').plot(kind='bar')"
   ]
  },
  {
   "cell_type": "code",
   "execution_count": 55,
   "id": "bf4aaf36",
   "metadata": {},
   "outputs": [
    {
     "data": {
      "text/plain": [
       "<Axes: xlabel='Product'>"
      ]
     },
     "execution_count": 55,
     "metadata": {},
     "output_type": "execute_result"
    },
    {
     "data": {
      "image/png": "[encoded data removed]",
      "text/plain": [
       "<Figure size 640x480 with 1 Axes>"
      ]
     },
     "metadata": {},
     "output_type": "display_data"
    }
   ],
   "source": [
    "pd.pivot_table(data = cust_spend, index = 'Product', columns='Monthly_Spend',\n",
    "                   values='Amount', aggfunc='sum').plot(kind='bar',stacked=True)"
   ]
  },
  {
   "cell_type": "code",
   "execution_count": 56,
   "id": "3376759a",
   "metadata": {},
   "outputs": [
    {
     "data": {
      "text/plain": [
       "<Axes: xlabel='Monthly_Spend'>"
      ]
     },
     "execution_count": 56,
     "metadata": {},
     "output_type": "execute_result"
    },
    {
     "data": {
      "image/png": "[encoded data removed]",
      "text/plain": [
       "<Figure size 640x480 with 1 Axes>"
      ]
     },
     "metadata": {},
     "output_type": "display_data"
    }
   ],
   "source": [
    "pd.pivot_table(data = cust_spend, index = 'Monthly_Spend', columns='Product',\n",
    "                   values='Amount', aggfunc='sum').plot(kind='bar')"
   ]
  },
  {
   "cell_type": "markdown",
   "id": "bc59d14d",
   "metadata": {},
   "source": [
    "### 5. Write user defined PYTHON function to perform the following analysis:\n",
    "### You need to find top 10 customers for each city in terms of their repayment amount by different products and by different time periods i.e. year or month. The user should be able to specify the product (Gold/Silver/Platinum) and time period (yearly or monthly) and the function should automatically take these inputs while identifying the top 10 customers."
   ]
  },
  {
   "cell_type": "code",
   "execution_count": 57,
   "id": "2998dadd",
   "metadata": {},
   "outputs": [],
   "source": [
    "cust_repayment['yearly']=cust_repayment.Month.apply(lambda x:x.year)\n",
    "cust_repayment['monthly']=cust_repayment.Month.apply(lambda x:x.month)"
   ]
  },
  {
   "cell_type": "code",
   "execution_count": 58,
   "id": "df87fa0c",
   "metadata": {},
   "outputs": [],
   "source": [
    "def top10Customers(product_category,time_period):\n",
    "        return cust_repayment.loc[(cust_repayment.Product == product_category)].groupby(['Customer','City','Product',time_period]).Amount.sum().reset_index().sort_values('Amount',ascending=False).head(10)"
   ]
  },
  {
   "cell_type": "code",
   "execution_count": 62,
   "id": "76d9ce1c",
   "metadata": {},
   "outputs": [
    {
     "name": "stdout",
     "output_type": "stream",
     "text": [
      "Please Enter Product Category and product category should be in Gold/Silver/Platinum:Gold\n",
      "Please Enter Time Period and time period should be in yearly/monthly:yearly\n"
     ]
    }
   ],
   "source": [
    "product_category=str(input(\"Please Enter Product Category and product category should be in Gold/Silver/Platinum:\"))\n",
    "time_period=str(input(\"Please Enter Time Period and time period should be in yearly/monthly:\"))"
   ]
  },
  {
   "cell_type": "code",
   "execution_count": 63,
   "id": "138cc448",
   "metadata": {},
   "outputs": [],
   "source": [
    "top10Customers_Analysis=top10Customers(product_category,time_period)"
   ]
  },
  {
   "cell_type": "code",
   "execution_count": 64,
   "id": "84aebe41",
   "metadata": {},
   "outputs": [
    {
     "data": {
      "text/html": [
       "<div>\n",
       "<style scoped>\n",
       "    .dataframe tbody tr th:only-of-type {\n",
       "        vertical-align: middle;\n",
       "    }\n",
       "\n",
       "    .dataframe tbody tr th {\n",
       "        vertical-align: top;\n",
       "    }\n",
       "\n",
       "    .dataframe thead th {\n",
       "        text-align: right;\n",
       "    }\n",
       "</style>\n",
       "<table border=\"1\" class=\"dataframe\">\n",
       "  <thead>\n",
       "    <tr style=\"text-align: right;\">\n",
       "      <th></th>\n",
       "      <th>Customer</th>\n",
       "      <th>City</th>\n",
       "      <th>Product</th>\n",
       "      <th>yearly</th>\n",
       "      <th>Amount</th>\n",
       "    </tr>\n",
       "  </thead>\n",
       "  <tbody>\n",
       "    <tr>\n",
       "      <th>64</th>\n",
       "      <td>A61</td>\n",
       "      <td>COCHIN</td>\n",
       "      <td>Gold</td>\n",
       "      <td>2005</td>\n",
       "      <td>4276860.55</td>\n",
       "    </tr>\n",
       "    <tr>\n",
       "      <th>55</th>\n",
       "      <td>A44</td>\n",
       "      <td>DELHI</td>\n",
       "      <td>Gold</td>\n",
       "      <td>2005</td>\n",
       "      <td>4165317.77</td>\n",
       "    </tr>\n",
       "    <tr>\n",
       "      <th>58</th>\n",
       "      <td>A45</td>\n",
       "      <td>COCHIN</td>\n",
       "      <td>Gold</td>\n",
       "      <td>2005</td>\n",
       "      <td>4042447.57</td>\n",
       "    </tr>\n",
       "    <tr>\n",
       "      <th>52</th>\n",
       "      <td>A43</td>\n",
       "      <td>BANGALORE</td>\n",
       "      <td>Gold</td>\n",
       "      <td>2005</td>\n",
       "      <td>4006956.60</td>\n",
       "    </tr>\n",
       "    <tr>\n",
       "      <th>13</th>\n",
       "      <td>A13</td>\n",
       "      <td>BANGALORE</td>\n",
       "      <td>Gold</td>\n",
       "      <td>2005</td>\n",
       "      <td>3757673.00</td>\n",
       "    </tr>\n",
       "    <tr>\n",
       "      <th>65</th>\n",
       "      <td>A61</td>\n",
       "      <td>COCHIN</td>\n",
       "      <td>Gold</td>\n",
       "      <td>2006</td>\n",
       "      <td>3744127.41</td>\n",
       "    </tr>\n",
       "    <tr>\n",
       "      <th>61</th>\n",
       "      <td>A60</td>\n",
       "      <td>CALCUTTA</td>\n",
       "      <td>Gold</td>\n",
       "      <td>2005</td>\n",
       "      <td>3742856.10</td>\n",
       "    </tr>\n",
       "    <tr>\n",
       "      <th>14</th>\n",
       "      <td>A13</td>\n",
       "      <td>BANGALORE</td>\n",
       "      <td>Gold</td>\n",
       "      <td>2006</td>\n",
       "      <td>3477314.89</td>\n",
       "    </tr>\n",
       "    <tr>\n",
       "      <th>38</th>\n",
       "      <td>A29</td>\n",
       "      <td>CALCUTTA</td>\n",
       "      <td>Gold</td>\n",
       "      <td>2006</td>\n",
       "      <td>3434298.00</td>\n",
       "    </tr>\n",
       "    <tr>\n",
       "      <th>35</th>\n",
       "      <td>A28</td>\n",
       "      <td>TRIVANDRUM</td>\n",
       "      <td>Gold</td>\n",
       "      <td>2006</td>\n",
       "      <td>3376614.65</td>\n",
       "    </tr>\n",
       "  </tbody>\n",
       "</table>\n",
       "</div>"
      ],
      "text/plain": [
       "   Customer        City Product  yearly      Amount\n",
       "64      A61      COCHIN    Gold    2005  4276860.55\n",
       "55      A44       DELHI    Gold    2005  4165317.77\n",
       "58      A45      COCHIN    Gold    2005  4042447.57\n",
       "52      A43   BANGALORE    Gold    2005  4006956.60\n",
       "13      A13   BANGALORE    Gold    2005  3757673.00\n",
       "65      A61      COCHIN    Gold    2006  3744127.41\n",
       "61      A60    CALCUTTA    Gold    2005  3742856.10\n",
       "14      A13   BANGALORE    Gold    2006  3477314.89\n",
       "38      A29    CALCUTTA    Gold    2006  3434298.00\n",
       "35      A28  TRIVANDRUM    Gold    2006  3376614.65"
      ]
     },
     "execution_count": 64,
     "metadata": {},
     "output_type": "execute_result"
    }
   ],
   "source": [
    "top10Customers_Analysis"
   ]
  },
  {
   "cell_type": "code",
   "execution_count": null,
   "id": "67a85d1b",
   "metadata": {},
   "outputs": [],
   "source": []
  }
 ],
 "metadata": {
  "kernelspec": {
   "display_name": "Python 3 (ipykernel)",
   "language": "python",
   "name": "python3"
  },
  "language_info": {
   "codemirror_mode": {
    "name": "ipython",
    "version": 3
   },
   "file_extension": ".py",
   "mimetype": "text/x-python",
   "name": "python",
   "nbconvert_exporter": "python",
   "pygments_lexer": "ipython3",
   "version": "3.10.9"
  }
 },
 "nbformat": 4,
 "nbformat_minor": 5
}

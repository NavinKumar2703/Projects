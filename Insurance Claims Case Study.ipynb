{
 "cells": [
  {
   "cell_type": "code",
   "execution_count": 43,
   "id": "a69d617f",
   "metadata": {},
   "outputs": [],
   "source": [
    "import pandas as pd\n",
    "import numpy as np\n",
    "import matplotlib.pyplot as plt\n",
    "from datetime import datetime, timedelta"
   ]
  },
  {
   "cell_type": "code",
   "execution_count": 74,
   "id": "24108e68",
   "metadata": {},
   "outputs": [],
   "source": [
    "claims = pd.read_csv(r'E:\\Classes\\Python\\New folder\\Python Foundation Case Study 3 - Insurance Claims Case Study\\Case Study 3 - Insurance Claims Case Study\\claims.csv')\n",
    "cust = pd.read_csv(r'E:\\Classes\\Python\\New folder\\Python Foundation Case Study 3 - Insurance Claims Case Study\\Case Study 3 - Insurance Claims Case Study\\cust_demographics.csv')\n"
   ]
  },
  {
   "cell_type": "code",
   "execution_count": 75,
   "id": "611cb828",
   "metadata": {},
   "outputs": [],
   "source": [
    "cust.rename(columns={'CUST_ID':'customer_id'}, inplace=True)"
   ]
  },
  {
   "cell_type": "code",
   "execution_count": 76,
   "id": "01f999f3",
   "metadata": {},
   "outputs": [],
   "source": [
    "cust_claims = claims.merge(cust, on ='customer_id', how='left')"
   ]
  },
  {
   "cell_type": "code",
   "execution_count": 77,
   "id": "08b8830a",
   "metadata": {},
   "outputs": [
    {
     "name": "stdout",
     "output_type": "stream",
     "text": [
      "<class 'pandas.core.frame.DataFrame'>\n",
      "Int64Index: 1100 entries, 0 to 1099\n",
      "Data columns (total 15 columns):\n",
      " #   Column               Non-Null Count  Dtype  \n",
      "---  ------               --------------  -----  \n",
      " 0   claim_id             1100 non-null   int64  \n",
      " 1   customer_id          1100 non-null   int64  \n",
      " 2   incident_cause       1100 non-null   object \n",
      " 3   claim_date           1100 non-null   object \n",
      " 4   claim_area           1100 non-null   object \n",
      " 5   police_report        1100 non-null   object \n",
      " 6   claim_type           1100 non-null   object \n",
      " 7   claim_amount         1035 non-null   object \n",
      " 8   total_policy_claims  1090 non-null   float64\n",
      " 9   fraudulent           1100 non-null   object \n",
      " 10  gender               1085 non-null   object \n",
      " 11  DateOfBirth          1085 non-null   object \n",
      " 12  State                1085 non-null   object \n",
      " 13  Contact              1085 non-null   object \n",
      " 14  Segment              1085 non-null   object \n",
      "dtypes: float64(1), int64(2), object(12)\n",
      "memory usage: 137.5+ KB\n"
     ]
    }
   ],
   "source": [
    "cust_claims.info()"
   ]
  },
  {
   "cell_type": "code",
   "execution_count": 82,
   "id": "684aa78d",
   "metadata": {},
   "outputs": [
    {
     "data": {
      "text/html": [
       "<div>\n",
       "<style scoped>\n",
       "    .dataframe tbody tr th:only-of-type {\n",
       "        vertical-align: middle;\n",
       "    }\n",
       "\n",
       "    .dataframe tbody tr th {\n",
       "        vertical-align: top;\n",
       "    }\n",
       "\n",
       "    .dataframe thead th {\n",
       "        text-align: right;\n",
       "    }\n",
       "</style>\n",
       "<table border=\"1\" class=\"dataframe\">\n",
       "  <thead>\n",
       "    <tr style=\"text-align: right;\">\n",
       "      <th></th>\n",
       "      <th>claim_id</th>\n",
       "      <th>customer_id</th>\n",
       "      <th>incident_cause</th>\n",
       "      <th>claim_date</th>\n",
       "      <th>claim_area</th>\n",
       "      <th>police_report</th>\n",
       "      <th>claim_type</th>\n",
       "      <th>claim_amount</th>\n",
       "      <th>total_policy_claims</th>\n",
       "      <th>fraudulent</th>\n",
       "      <th>gender</th>\n",
       "      <th>DateOfBirth</th>\n",
       "      <th>State</th>\n",
       "      <th>Contact</th>\n",
       "      <th>Segment</th>\n",
       "    </tr>\n",
       "  </thead>\n",
       "  <tbody>\n",
       "    <tr>\n",
       "      <th>0</th>\n",
       "      <td>54004764</td>\n",
       "      <td>21868593</td>\n",
       "      <td>Driver error</td>\n",
       "      <td>11/27/2017</td>\n",
       "      <td>Auto</td>\n",
       "      <td>No</td>\n",
       "      <td>Material only</td>\n",
       "      <td>2980.0</td>\n",
       "      <td>1.0</td>\n",
       "      <td>No</td>\n",
       "      <td>Female</td>\n",
       "      <td>12-Jan-79</td>\n",
       "      <td>VT</td>\n",
       "      <td>789-916-8172</td>\n",
       "      <td>Platinum</td>\n",
       "    </tr>\n",
       "    <tr>\n",
       "      <th>1</th>\n",
       "      <td>33985796</td>\n",
       "      <td>75740424</td>\n",
       "      <td>Crime</td>\n",
       "      <td>10/03/2018</td>\n",
       "      <td>Home</td>\n",
       "      <td>Unknown</td>\n",
       "      <td>Material only</td>\n",
       "      <td>2980.0</td>\n",
       "      <td>3.0</td>\n",
       "      <td>No</td>\n",
       "      <td>Female</td>\n",
       "      <td>13-Jan-70</td>\n",
       "      <td>ME</td>\n",
       "      <td>265-543-1264</td>\n",
       "      <td>Silver</td>\n",
       "    </tr>\n",
       "    <tr>\n",
       "      <th>2</th>\n",
       "      <td>53522022</td>\n",
       "      <td>30308357</td>\n",
       "      <td>Other driver error</td>\n",
       "      <td>02/02/2018</td>\n",
       "      <td>Auto</td>\n",
       "      <td>No</td>\n",
       "      <td>Material only</td>\n",
       "      <td>3369.5</td>\n",
       "      <td>1.0</td>\n",
       "      <td>Yes</td>\n",
       "      <td>Female</td>\n",
       "      <td>11-Mar-84</td>\n",
       "      <td>TN</td>\n",
       "      <td>798-631-4758</td>\n",
       "      <td>Silver</td>\n",
       "    </tr>\n",
       "    <tr>\n",
       "      <th>3</th>\n",
       "      <td>13015401</td>\n",
       "      <td>47830476</td>\n",
       "      <td>Natural causes</td>\n",
       "      <td>06/17/2018</td>\n",
       "      <td>Auto</td>\n",
       "      <td>No</td>\n",
       "      <td>Material only</td>\n",
       "      <td>1680.0</td>\n",
       "      <td>1.0</td>\n",
       "      <td>No</td>\n",
       "      <td>Female</td>\n",
       "      <td>01-May-86</td>\n",
       "      <td>MA</td>\n",
       "      <td>413-187-7945</td>\n",
       "      <td>Silver</td>\n",
       "    </tr>\n",
       "    <tr>\n",
       "      <th>4</th>\n",
       "      <td>22890252</td>\n",
       "      <td>19269962</td>\n",
       "      <td>Crime</td>\n",
       "      <td>01/13/2018</td>\n",
       "      <td>Auto</td>\n",
       "      <td>No</td>\n",
       "      <td>Material only</td>\n",
       "      <td>2680.0</td>\n",
       "      <td>1.0</td>\n",
       "      <td>No</td>\n",
       "      <td>Male</td>\n",
       "      <td>13-May-77</td>\n",
       "      <td>NV</td>\n",
       "      <td>956-871-8691</td>\n",
       "      <td>Gold</td>\n",
       "    </tr>\n",
       "  </tbody>\n",
       "</table>\n",
       "</div>"
      ],
      "text/plain": [
       "   claim_id  customer_id      incident_cause  claim_date claim_area  \\\n",
       "0  54004764     21868593        Driver error  11/27/2017       Auto   \n",
       "1  33985796     75740424               Crime  10/03/2018       Home   \n",
       "2  53522022     30308357  Other driver error  02/02/2018       Auto   \n",
       "3  13015401     47830476      Natural causes  06/17/2018       Auto   \n",
       "4  22890252     19269962               Crime  01/13/2018       Auto   \n",
       "\n",
       "  police_report     claim_type  claim_amount  total_policy_claims fraudulent  \\\n",
       "0            No  Material only        2980.0                  1.0         No   \n",
       "1       Unknown  Material only        2980.0                  3.0         No   \n",
       "2            No  Material only        3369.5                  1.0        Yes   \n",
       "3            No  Material only        1680.0                  1.0         No   \n",
       "4            No  Material only        2680.0                  1.0         No   \n",
       "\n",
       "   gender DateOfBirth State       Contact   Segment  \n",
       "0  Female   12-Jan-79    VT  789-916-8172  Platinum  \n",
       "1  Female   13-Jan-70    ME  265-543-1264    Silver  \n",
       "2  Female   11-Mar-84    TN  798-631-4758    Silver  \n",
       "3  Female   01-May-86    MA  413-187-7945    Silver  \n",
       "4    Male   13-May-77    NV  956-871-8691      Gold  "
      ]
     },
     "execution_count": 82,
     "metadata": {},
     "output_type": "execute_result"
    }
   ],
   "source": [
    "cust_claims['claim_amount'] = cust_claims['claim_amount'].replace({'\\$': ''}, regex=True).astype(float)\n",
    "\n",
    "cust_claims.head()"
   ]
  },
  {
   "cell_type": "code",
   "execution_count": 83,
   "id": "1089485d",
   "metadata": {},
   "outputs": [
    {
     "data": {
      "text/plain": [
       "[0       0\n",
       " 1       1\n",
       " 2       0\n",
       " 3       0\n",
       " 4       0\n",
       "        ..\n",
       " 1095    0\n",
       " 1096    0\n",
       " 1097    0\n",
       " 1098    1\n",
       " 1099    1\n",
       " Name: alert_flag, Length: 1100, dtype: int64]"
      ]
     },
     "execution_count": 83,
     "metadata": {},
     "output_type": "execute_result"
    }
   ],
   "source": [
    "cust_claims['alert_flag'] = cust_claims['police_report'].apply(lambda x: 0 if x == 'No' else 1)\n",
    "[cust_claims.alert_flag]"
   ]
  },
  {
   "cell_type": "code",
   "execution_count": 84,
   "id": "d84a58fb",
   "metadata": {},
   "outputs": [
    {
     "data": {
      "text/html": [
       "<div>\n",
       "<style scoped>\n",
       "    .dataframe tbody tr th:only-of-type {\n",
       "        vertical-align: middle;\n",
       "    }\n",
       "\n",
       "    .dataframe tbody tr th {\n",
       "        vertical-align: top;\n",
       "    }\n",
       "\n",
       "    .dataframe thead th {\n",
       "        text-align: right;\n",
       "    }\n",
       "</style>\n",
       "<table border=\"1\" class=\"dataframe\">\n",
       "  <thead>\n",
       "    <tr style=\"text-align: right;\">\n",
       "      <th></th>\n",
       "      <th>claim_id</th>\n",
       "      <th>customer_id</th>\n",
       "      <th>incident_cause</th>\n",
       "      <th>claim_date</th>\n",
       "      <th>claim_area</th>\n",
       "      <th>police_report</th>\n",
       "      <th>claim_type</th>\n",
       "      <th>claim_amount</th>\n",
       "      <th>total_policy_claims</th>\n",
       "      <th>fraudulent</th>\n",
       "      <th>gender</th>\n",
       "      <th>DateOfBirth</th>\n",
       "      <th>State</th>\n",
       "      <th>Contact</th>\n",
       "      <th>Segment</th>\n",
       "      <th>alert_flag</th>\n",
       "    </tr>\n",
       "  </thead>\n",
       "  <tbody>\n",
       "    <tr>\n",
       "      <th>184</th>\n",
       "      <td>69348631</td>\n",
       "      <td>154557</td>\n",
       "      <td>Driver error</td>\n",
       "      <td>2018-04-10</td>\n",
       "      <td>Auto</td>\n",
       "      <td>No</td>\n",
       "      <td>Injury only</td>\n",
       "      <td>NaN</td>\n",
       "      <td>1.0</td>\n",
       "      <td>Yes</td>\n",
       "      <td>Female</td>\n",
       "      <td>23-May-78</td>\n",
       "      <td>DE</td>\n",
       "      <td>962-879-1238</td>\n",
       "      <td>Platinum</td>\n",
       "      <td>0</td>\n",
       "    </tr>\n",
       "    <tr>\n",
       "      <th>836</th>\n",
       "      <td>40953049</td>\n",
       "      <td>263204</td>\n",
       "      <td>Other causes</td>\n",
       "      <td>2018-04-04</td>\n",
       "      <td>Auto</td>\n",
       "      <td>No</td>\n",
       "      <td>Material and injury</td>\n",
       "      <td>39192.0</td>\n",
       "      <td>1.0</td>\n",
       "      <td>Yes</td>\n",
       "      <td>Male</td>\n",
       "      <td>20-Dec-72</td>\n",
       "      <td>TX</td>\n",
       "      <td>173-892-6314</td>\n",
       "      <td>Silver</td>\n",
       "      <td>0</td>\n",
       "    </tr>\n",
       "    <tr>\n",
       "      <th>677</th>\n",
       "      <td>45780237</td>\n",
       "      <td>287476</td>\n",
       "      <td>Natural causes</td>\n",
       "      <td>2017-10-17</td>\n",
       "      <td>Auto</td>\n",
       "      <td>Unknown</td>\n",
       "      <td>Material only</td>\n",
       "      <td>1621.5</td>\n",
       "      <td>2.0</td>\n",
       "      <td>Yes</td>\n",
       "      <td>Male</td>\n",
       "      <td>28-Jul-88</td>\n",
       "      <td>FL</td>\n",
       "      <td>364-598-1549</td>\n",
       "      <td>Silver</td>\n",
       "      <td>1</td>\n",
       "    </tr>\n",
       "    <tr>\n",
       "      <th>828</th>\n",
       "      <td>89833962</td>\n",
       "      <td>441097</td>\n",
       "      <td>Other causes</td>\n",
       "      <td>2018-03-21</td>\n",
       "      <td>Auto</td>\n",
       "      <td>Yes</td>\n",
       "      <td>Material and injury</td>\n",
       "      <td>37040.0</td>\n",
       "      <td>1.0</td>\n",
       "      <td>No</td>\n",
       "      <td>Male</td>\n",
       "      <td>19-Aug-71</td>\n",
       "      <td>CA</td>\n",
       "      <td>187-348-8375</td>\n",
       "      <td>Gold</td>\n",
       "      <td>1</td>\n",
       "    </tr>\n",
       "    <tr>\n",
       "      <th>505</th>\n",
       "      <td>35782742</td>\n",
       "      <td>524545</td>\n",
       "      <td>Other driver error</td>\n",
       "      <td>2018-07-27</td>\n",
       "      <td>Auto</td>\n",
       "      <td>No</td>\n",
       "      <td>Injury only</td>\n",
       "      <td>35250.0</td>\n",
       "      <td>3.0</td>\n",
       "      <td>No</td>\n",
       "      <td>Female</td>\n",
       "      <td>10-Aug-80</td>\n",
       "      <td>NC</td>\n",
       "      <td>798-862-5398</td>\n",
       "      <td>Gold</td>\n",
       "      <td>0</td>\n",
       "    </tr>\n",
       "  </tbody>\n",
       "</table>\n",
       "</div>"
      ],
      "text/plain": [
       "     claim_id  customer_id      incident_cause claim_date claim_area  \\\n",
       "184  69348631       154557        Driver error 2018-04-10       Auto   \n",
       "836  40953049       263204        Other causes 2018-04-04       Auto   \n",
       "677  45780237       287476      Natural causes 2017-10-17       Auto   \n",
       "828  89833962       441097        Other causes 2018-03-21       Auto   \n",
       "505  35782742       524545  Other driver error 2018-07-27       Auto   \n",
       "\n",
       "    police_report           claim_type  claim_amount  total_policy_claims  \\\n",
       "184            No          Injury only           NaN                  1.0   \n",
       "836            No  Material and injury       39192.0                  1.0   \n",
       "677       Unknown        Material only        1621.5                  2.0   \n",
       "828           Yes  Material and injury       37040.0                  1.0   \n",
       "505            No          Injury only       35250.0                  3.0   \n",
       "\n",
       "    fraudulent  gender DateOfBirth State       Contact   Segment  alert_flag  \n",
       "184        Yes  Female   23-May-78    DE  962-879-1238  Platinum           0  \n",
       "836        Yes    Male   20-Dec-72    TX  173-892-6314    Silver           0  \n",
       "677        Yes    Male   28-Jul-88    FL  364-598-1549    Silver           1  \n",
       "828         No    Male   19-Aug-71    CA  187-348-8375      Gold           1  \n",
       "505         No  Female   10-Aug-80    NC  798-862-5398      Gold           0  "
      ]
     },
     "execution_count": 84,
     "metadata": {},
     "output_type": "execute_result"
    }
   ],
   "source": [
    "cust_claims['claim_date'] = pd.to_datetime(cust_claims['claim_date'])\n",
    "cust_claims.sort_values(by=['customer_id', 'claim_date'], ascending=[True, False], inplace=True)\n",
    "unique_customers_data = cust_claims.drop_duplicates(subset='customer_id', keep='first')\n",
    "unique_customers_data.head()"
   ]
  },
  {
   "cell_type": "code",
   "execution_count": 85,
   "id": "7d181f7f",
   "metadata": {},
   "outputs": [
    {
     "data": {
      "text/html": [
       "<div>\n",
       "<style scoped>\n",
       "    .dataframe tbody tr th:only-of-type {\n",
       "        vertical-align: middle;\n",
       "    }\n",
       "\n",
       "    .dataframe tbody tr th {\n",
       "        vertical-align: top;\n",
       "    }\n",
       "\n",
       "    .dataframe thead th {\n",
       "        text-align: right;\n",
       "    }\n",
       "</style>\n",
       "<table border=\"1\" class=\"dataframe\">\n",
       "  <thead>\n",
       "    <tr style=\"text-align: right;\">\n",
       "      <th></th>\n",
       "      <th>claim_id</th>\n",
       "      <th>customer_id</th>\n",
       "      <th>incident_cause</th>\n",
       "      <th>claim_date</th>\n",
       "      <th>claim_area</th>\n",
       "      <th>police_report</th>\n",
       "      <th>claim_type</th>\n",
       "      <th>claim_amount</th>\n",
       "      <th>total_policy_claims</th>\n",
       "      <th>fraudulent</th>\n",
       "      <th>gender</th>\n",
       "      <th>DateOfBirth</th>\n",
       "      <th>State</th>\n",
       "      <th>Contact</th>\n",
       "      <th>Segment</th>\n",
       "      <th>alert_flag</th>\n",
       "    </tr>\n",
       "  </thead>\n",
       "  <tbody>\n",
       "    <tr>\n",
       "      <th>0</th>\n",
       "      <td>69348631</td>\n",
       "      <td>154557</td>\n",
       "      <td>Driver error</td>\n",
       "      <td>2018-04-10</td>\n",
       "      <td>Auto</td>\n",
       "      <td>No</td>\n",
       "      <td>Injury only</td>\n",
       "      <td>12442.125121</td>\n",
       "      <td>1.0</td>\n",
       "      <td>Yes</td>\n",
       "      <td>Female</td>\n",
       "      <td>23-May-78</td>\n",
       "      <td>DE</td>\n",
       "      <td>962-879-1238</td>\n",
       "      <td>Platinum</td>\n",
       "      <td>0</td>\n",
       "    </tr>\n",
       "    <tr>\n",
       "      <th>1</th>\n",
       "      <td>40953049</td>\n",
       "      <td>263204</td>\n",
       "      <td>Other causes</td>\n",
       "      <td>2018-04-04</td>\n",
       "      <td>Auto</td>\n",
       "      <td>No</td>\n",
       "      <td>Material and injury</td>\n",
       "      <td>39192.000000</td>\n",
       "      <td>1.0</td>\n",
       "      <td>Yes</td>\n",
       "      <td>Male</td>\n",
       "      <td>20-Dec-72</td>\n",
       "      <td>TX</td>\n",
       "      <td>173-892-6314</td>\n",
       "      <td>Silver</td>\n",
       "      <td>0</td>\n",
       "    </tr>\n",
       "    <tr>\n",
       "      <th>2</th>\n",
       "      <td>45780237</td>\n",
       "      <td>287476</td>\n",
       "      <td>Natural causes</td>\n",
       "      <td>2017-10-17</td>\n",
       "      <td>Auto</td>\n",
       "      <td>Unknown</td>\n",
       "      <td>Material only</td>\n",
       "      <td>1621.500000</td>\n",
       "      <td>2.0</td>\n",
       "      <td>Yes</td>\n",
       "      <td>Male</td>\n",
       "      <td>28-Jul-88</td>\n",
       "      <td>FL</td>\n",
       "      <td>364-598-1549</td>\n",
       "      <td>Silver</td>\n",
       "      <td>1</td>\n",
       "    </tr>\n",
       "    <tr>\n",
       "      <th>3</th>\n",
       "      <td>89833962</td>\n",
       "      <td>441097</td>\n",
       "      <td>Other causes</td>\n",
       "      <td>2018-03-21</td>\n",
       "      <td>Auto</td>\n",
       "      <td>Yes</td>\n",
       "      <td>Material and injury</td>\n",
       "      <td>37040.000000</td>\n",
       "      <td>1.0</td>\n",
       "      <td>No</td>\n",
       "      <td>Male</td>\n",
       "      <td>19-Aug-71</td>\n",
       "      <td>CA</td>\n",
       "      <td>187-348-8375</td>\n",
       "      <td>Gold</td>\n",
       "      <td>1</td>\n",
       "    </tr>\n",
       "    <tr>\n",
       "      <th>4</th>\n",
       "      <td>35782742</td>\n",
       "      <td>524545</td>\n",
       "      <td>Other driver error</td>\n",
       "      <td>2018-07-27</td>\n",
       "      <td>Auto</td>\n",
       "      <td>No</td>\n",
       "      <td>Injury only</td>\n",
       "      <td>35250.000000</td>\n",
       "      <td>3.0</td>\n",
       "      <td>No</td>\n",
       "      <td>Female</td>\n",
       "      <td>10-Aug-80</td>\n",
       "      <td>NC</td>\n",
       "      <td>798-862-5398</td>\n",
       "      <td>Gold</td>\n",
       "      <td>0</td>\n",
       "    </tr>\n",
       "  </tbody>\n",
       "</table>\n",
       "</div>"
      ],
      "text/plain": [
       "   claim_id  customer_id      incident_cause claim_date claim_area  \\\n",
       "0  69348631       154557        Driver error 2018-04-10       Auto   \n",
       "1  40953049       263204        Other causes 2018-04-04       Auto   \n",
       "2  45780237       287476      Natural causes 2017-10-17       Auto   \n",
       "3  89833962       441097        Other causes 2018-03-21       Auto   \n",
       "4  35782742       524545  Other driver error 2018-07-27       Auto   \n",
       "\n",
       "  police_report           claim_type  claim_amount  total_policy_claims  \\\n",
       "0            No          Injury only  12442.125121                  1.0   \n",
       "1            No  Material and injury  39192.000000                  1.0   \n",
       "2       Unknown        Material only   1621.500000                  2.0   \n",
       "3           Yes  Material and injury  37040.000000                  1.0   \n",
       "4            No          Injury only  35250.000000                  3.0   \n",
       "\n",
       "  fraudulent  gender DateOfBirth State       Contact   Segment  alert_flag  \n",
       "0        Yes  Female   23-May-78    DE  962-879-1238  Platinum           0  \n",
       "1        Yes    Male   20-Dec-72    TX  173-892-6314    Silver           0  \n",
       "2        Yes    Male   28-Jul-88    FL  364-598-1549    Silver           1  \n",
       "3         No    Male   19-Aug-71    CA  187-348-8375      Gold           1  \n",
       "4         No  Female   10-Aug-80    NC  798-862-5398      Gold           0  "
      ]
     },
     "execution_count": 85,
     "metadata": {},
     "output_type": "execute_result"
    }
   ],
   "source": [
    "for column in cust_claims.columns:\n",
    "    if cust_claims[column].dtype == 'float64':\n",
    "                cust_claims[column].fillna(cust_claims[column].mean(), inplace=True)\n",
    "    elif cust_claims[column].dtype == 'object':\n",
    "               cust_claims[column].fillna(cust_claims[column].mode()[0], inplace=True)\n",
    "cust_claims.reset_index(drop=True, inplace=True)\n",
    "cust_claims.head()"
   ]
  },
  {
   "cell_type": "code",
   "execution_count": 86,
   "id": "b23a38b2",
   "metadata": {},
   "outputs": [],
   "source": [
    "cust_claims[\"DateOfBirth\"] = pd.to_datetime(cust_claims.DateOfBirth, format = \"%d-%b-%y\")\n",
    "cust_claims.loc[(cust_claims.DateOfBirth.dt.year > 2020),\"DateOfBirth\"]=cust_claims[cust_claims.DateOfBirth.dt.year > 2020][\"DateOfBirth\"].apply(lambda x: x - pd.DateOffset(years=100))"
   ]
  },
  {
   "cell_type": "code",
   "execution_count": 88,
   "id": "00bcdcac",
   "metadata": {},
   "outputs": [],
   "source": [
    "curr_year = pd.to_datetime('today').year\n",
    "dob_year = pd.DatetimeIndex(cust_claims['DateOfBirth']).year          \n",
    "x = dob_year-100                                               \n",
    "v = curr_year - x\n",
    "y = curr_year - dob_year\n",
    "cust_claims['age'] = (np.where(dob_year > curr_year,v,y))\n",
    "cust_claims.loc[(cust_claims.age < 18),'AgeGroup'] = 'Children'\n",
    "cust_claims.loc[(cust_claims.age >=18) & (cust_claims.age <30),'AgeGroup'] = 'Youth'\n",
    "cust_claims.loc[(cust_claims.age >=30) & (cust_claims.age <60),'AgeGroup'] = 'Adult'\n",
    "cust_claims.loc[(cust_claims.age >=60),'AgeGroup'] = 'Senior'"
   ]
  },
  {
   "cell_type": "code",
   "execution_count": 90,
   "id": "2986b636",
   "metadata": {},
   "outputs": [
    {
     "data": {
      "text/plain": [
       "AgeGroup\n",
       "Adult     824\n",
       "Senior    102\n",
       "Youth     174\n",
       "Name: age, dtype: int64"
      ]
     },
     "execution_count": 90,
     "metadata": {},
     "output_type": "execute_result"
    }
   ],
   "source": [
    "cust_claims.head(10)\n",
    "cust_claims.groupby([\"AgeGroup\"])[\"age\"].count()"
   ]
  },
  {
   "cell_type": "code",
   "execution_count": 91,
   "id": "464faa02",
   "metadata": {},
   "outputs": [
    {
     "data": {
      "text/plain": [
       "Segment\n",
       "Gold        12746.45\n",
       "Platinum    12340.89\n",
       "Silver      12206.38\n",
       "Name: claim_amount, dtype: float64"
      ]
     },
     "execution_count": 91,
     "metadata": {},
     "output_type": "execute_result"
    }
   ],
   "source": [
    "avg_amt_segment= round(cust_claims.groupby([\"Segment\"])[\"claim_amount\"].mean(),2)\n",
    "avg_amt_segment"
   ]
  },
  {
   "cell_type": "code",
   "execution_count": 92,
   "id": "a262bd74",
   "metadata": {},
   "outputs": [
    {
     "data": {
      "text/plain": [
       "incident_cause\n",
       "total_Crime                  729472.63\n",
       "total_Driver error          3348655.50\n",
       "total_Natural causes        1316440.63\n",
       "total_Other causes          3779869.38\n",
       "total_Other driver error    3384045.13\n",
       "Name: claim_amount, dtype: float64"
      ]
     },
     "execution_count": 92,
     "metadata": {},
     "output_type": "execute_result"
    }
   ],
   "source": [
    "amt_incedent= round(cust_claims.loc[cust_claims.claim_date < \"2018-09-10\",:].groupby(\"incident_cause\")[\"claim_amount\"].sum().add_prefix(\"total_\"),2)\n",
    "amt_incedent"
   ]
  },
  {
   "cell_type": "code",
   "execution_count": 93,
   "id": "945638d0",
   "metadata": {},
   "outputs": [
    {
     "data": {
      "text/plain": [
       "Index(['claim_id', 'customer_id', 'incident_cause', 'claim_date', 'claim_area',\n",
       "       'police_report', 'claim_type', 'claim_amount', 'total_policy_claims',\n",
       "       'fraudulent', 'gender', 'DateOfBirth', 'State', 'Contact', 'Segment',\n",
       "       'alert_flag', 'age', 'AgeGroup'],\n",
       "      dtype='object')"
      ]
     },
     "execution_count": 93,
     "metadata": {},
     "output_type": "execute_result"
    }
   ],
   "source": [
    "cust_claims.columns"
   ]
  },
  {
   "cell_type": "code",
   "execution_count": 94,
   "id": "581161da",
   "metadata": {},
   "outputs": [
    {
     "data": {
      "text/plain": [
       "State\n",
       "AK    20\n",
       "DE    29\n",
       "TX    10\n",
       "Name: claim_amount, dtype: int64"
      ]
     },
     "execution_count": 94,
     "metadata": {},
     "output_type": "execute_result"
    }
   ],
   "source": [
    "adults_claims_count= cust_claims.loc[(cust_claims.incident_cause.str.lower().str.contains(\"driver\") & (cust_claims.State== \"TX\") | (cust_claims.State== \"DE\") | (cust_claims.State== \"AK\")) ].groupby([\"State\"])[\"claim_amount\"].count()\n",
    "adults_claims_count"
   ]
  },
  {
   "cell_type": "code",
   "execution_count": 95,
   "id": "765b3839",
   "metadata": {},
   "outputs": [
    {
     "data": {
      "image/png": "[encoded data removed]",
      "text/plain": [
       "<Figure size 2200x1200 with 3 Axes>"
      ]
     },
     "metadata": {},
     "output_type": "display_data"
    }
   ],
   "source": [
    "claim_gender_segment= round(cust_claims.groupby([\"Segment\", \"gender\"])[\"claim_amount\"].sum().reset_index(),2)\n",
    "claim_gender_segment\n",
    "claim_gender_segment_pivot= claim_gender_segment.pivot(index=\"Segment\", columns= \"gender\", values= \"claim_amount\")\n",
    "claim_gender_segment_pivot\n",
    "claim_gender_segment_pivot.T.plot(kind=\"pie\", subplots= True, legend= False,figsize=(22,12))\n",
    "plt.show()"
   ]
  },
  {
   "cell_type": "code",
   "execution_count": 97,
   "id": "eebf132f",
   "metadata": {},
   "outputs": [
    {
     "data": {
      "text/plain": [
       "[]"
      ]
     },
     "execution_count": 97,
     "metadata": {},
     "output_type": "execute_result"
    },
    {
     "data": {
      "image/png": "[encoded data removed]",
      "text/plain": [
       "<Figure size 640x480 with 1 Axes>"
      ]
     },
     "metadata": {},
     "output_type": "display_data"
    }
   ],
   "source": [
    "import seaborn as sns\n",
    "claim_gender_driver= cust_claims.loc[(cust_claims.incident_cause.str.lower().str.contains(\"driver\"))].groupby([\"gender\"])[[\"gender\"]].count().add_prefix(\"countOf_\").reset_index()\n",
    "claim_gender_driver\n",
    "sns.barplot(x= \"gender\", y= \"countOf_gender\", data= claim_gender_driver)\n",
    "plt.plot()"
   ]
  },
  {
   "cell_type": "code",
   "execution_count": 98,
   "id": "00116253",
   "metadata": {},
   "outputs": [
    {
     "data": {
      "text/plain": [
       "[]"
      ]
     },
     "execution_count": 98,
     "metadata": {},
     "output_type": "execute_result"
    },
    {
     "data": {
      "image/png": "[encoded data removed]",
      "text/plain": [
       "<Figure size 640x480 with 1 Axes>"
      ]
     },
     "metadata": {},
     "output_type": "display_data"
    }
   ],
   "source": [
    "cust_claims[\"Frauds\"]= np.where(cust_claims.fraudulent == \"Yes\",1,0)\n",
    "cust_claims\n",
    "agegroup_max_frauds= cust_claims.groupby([\"AgeGroup\"])[\"Frauds\"].sum().reset_index()\n",
    "agegroup_max_frauds\n",
    "sns.barplot(x= \"AgeGroup\", y=\"Frauds\", data=agegroup_max_frauds )\n",
    "plt.plot()"
   ]
  },
  {
   "cell_type": "code",
   "execution_count": 100,
   "id": "500e290f",
   "metadata": {},
   "outputs": [
    {
     "data": {
      "image/png": "[encoded data removed]",
      "text/plain": [
       "<Figure size 2000x1000 with 1 Axes>"
      ]
     },
     "metadata": {},
     "output_type": "display_data"
    }
   ],
   "source": [
    "cust_claims['claim_month'] = pd.to_datetime(cust_claims['claim_date'])\n",
    "cust_claims['Claim_month'] = cust_claims['claim_month'].dt.month\n",
    "cust_claims.head(10)\n",
    "pd.pivot_table(cust_claims,index=\"Claim_month\",values=\"claim_amount\").plot(kind='bar',figsize=(20,10))\n",
    "plt.ylabel('Total amount spend')\n",
    "plt.show()"
   ]
  },
  {
   "cell_type": "code",
   "execution_count": 101,
   "id": "f7431f7c",
   "metadata": {},
   "outputs": [
    {
     "data": {
      "image/png": "[encoded data removed]",
      "text/plain": [
       "<Figure size 1200x1000 with 2 Axes>"
      ]
     },
     "metadata": {},
     "output_type": "display_data"
    }
   ],
   "source": [
    "frauds_amount_gender= pd.DataFrame(cust_claims.loc[(cust_claims.fraudulent==\"Yes\")].groupby([\"gender\",\"AgeGroup\"])[[\"claim_amount\"]].mean().add_prefix(\"Fraud_\"))\n",
    "non_frauds_amount_gender=pd.DataFrame(cust_claims.loc[(cust_claims.fraudulent==\"No\")].groupby([\"gender\",\"AgeGroup\"])[[\"claim_amount\"]].mean().add_prefix(\"Non_Fraud_\"))\n",
    "claims_age_gender=round(pd.merge(frauds_amount_gender,non_frauds_amount_gender, on=[\"gender\",\"AgeGroup\"]),2)\n",
    "claims_age_gender\n",
    "claims_age_gender.plot(kind=\"bar\", subplots= True, legend= True,figsize=(12,10))\n",
    "plt.show()"
   ]
  },
  {
   "cell_type": "code",
   "execution_count": 102,
   "id": "42e00b93",
   "metadata": {},
   "outputs": [
    {
     "name": "stdout",
     "output_type": "stream",
     "text": [
      "The average amount claimed by males is 12795.000007614406\n",
      "The average amount claimed by females is 12061.233702272999\n"
     ]
    }
   ],
   "source": [
    "claim_male = cust_claims['claim_amount'].loc[cust_claims['gender']==\"Male\"]\n",
    "claim_female = cust_claims['claim_amount'].loc[cust_claims['gender']==\"Female\"]\n",
    "print(\"The average amount claimed by males is {}\".format(claim_male.mean()))\n",
    "print(\"The average amount claimed by females is {}\".format(claim_female.mean()))"
   ]
  },
  {
   "cell_type": "code",
   "execution_count": 104,
   "id": "87df2459",
   "metadata": {},
   "outputs": [
    {
     "data": {
      "text/plain": [
       "0.9105252193597447"
      ]
     },
     "execution_count": 104,
     "metadata": {},
     "output_type": "execute_result"
    }
   ],
   "source": [
    "import scipy.stats as stats\n",
    "eq_var = stats.ttest_ind(a= claim_male,b= claim_female,equal_var=True)    # equal variance\n",
    "eq_var.statistic"
   ]
  },
  {
   "cell_type": "code",
   "execution_count": 105,
   "id": "a326d2a2",
   "metadata": {},
   "outputs": [
    {
     "data": {
      "text/plain": [
       "0.9116109971881289"
      ]
     },
     "execution_count": 105,
     "metadata": {},
     "output_type": "execute_result"
    }
   ],
   "source": [
    "uneq_var = stats.ttest_ind(a= claim_male,b= claim_female,equal_var=False)    # UnEqual variance\n",
    "uneq_var.statistic\n"
   ]
  },
  {
   "cell_type": "code",
   "execution_count": 108,
   "id": "dc86e80c",
   "metadata": {},
   "outputs": [
    {
     "name": "stdout",
     "output_type": "stream",
     "text": [
      "For the above test, the st-score is 0.9105252193597447 and the pv-value is 0.3627454254155206\n",
      "We fail to reject null hypothesis\n"
     ]
    }
   ],
   "source": [
    "st= eq_var.statistic\n",
    "pv= eq_var.pvalue\n",
    "print(\"For the above test, the st-score is {} and the pv-value is {}\".format(st,pv))\n",
    "if(pv<0.05):\n",
    "    print('We reject null hypothesis')\n",
    "else:\n",
    "    print('We fail to reject null hypothesis')"
   ]
  },
  {
   "cell_type": "code",
   "execution_count": 109,
   "id": "8e40e168",
   "metadata": {},
   "outputs": [
    {
     "name": "stdout",
     "output_type": "stream",
     "text": [
      "The chi square stat is 1.1990666113231194 and the p value is 0.9988247834561567\n"
     ]
    }
   ],
   "source": [
    "agecat_seg = pd.crosstab(cust_claims.AgeGroup, cust_claims.Segment, margins = True)\n",
    "chi_test = stats.chi2_contingency(observed= agecat_seg)\n",
    "print(\"The chi square stat is {} and the p value is {}\".format(chi_test[0],chi_test[1]))"
   ]
  },
  {
   "cell_type": "code",
   "execution_count": 121,
   "id": "776f3aee",
   "metadata": {},
   "outputs": [
    {
     "name": "stdout",
     "output_type": "stream",
     "text": [
      "The difference in claim amounts is not statistically significant.\n",
      "Difference in claim amounts: 355.5622549434411\n",
      "T-statistic: 0.5876204787585442\n",
      "P-value: 0.5570561038218577\n"
     ]
    }
   ],
   "source": [
    "avg_claim_2016_17 = amt_2016_17.mean()\n",
    "diff_claim = current_year.mean() - avg_claim_2016_17\n",
    "t_stat, p_value = stats.ttest_1samp(current_year, popmean=avg_claim_2016_17)\n",
    "significance_level = 0.05\n",
    "if p_value < significance_level:\n",
    "    print(\"The difference in claim amounts is statistically significant.\")\n",
    "else:\n",
    "    print(\"The difference in claim amounts is not statistically significant.\")\n",
    "print(\"Difference in claim amounts:\", diff_claim)\n",
    "print(\"T-statistic:\", t_stat)\n",
    "print(\"P-value:\", p_value)"
   ]
  },
  {
   "cell_type": "code",
   "execution_count": 123,
   "id": "dd2b1a64",
   "metadata": {},
   "outputs": [
    {
     "name": "stdout",
     "output_type": "stream",
     "text": [
      "The f-value is 0.7891448008185136 and the p value is 0.37457332292027223\n",
      "We fail to reject null hypothesis\n"
     ]
    }
   ],
   "source": [
    "age_group_1 = cust_claims['total_policy_claims'].loc[cust_claims['AgeGroup']==\"Youth\"]\n",
    "age_group_2 = cust_claims['total_policy_claims'].loc[cust_claims['AgeGroup']==\"Adult\"]\n",
    "anova = stats.f_oneway(age_group_1,age_group_2)\n",
    "f = anova.statistic\n",
    "p = anova.pvalue\n",
    "print(\"The f-value is {} and the p value is {}\".format(f,p))\n",
    "if(p<0.05):\n",
    "    print('We reject null hypothesis')\n",
    "else:\n",
    "    print('We fail to reject null hypothesis')"
   ]
  },
  {
   "cell_type": "code",
   "execution_count": 124,
   "id": "b7d654c3",
   "metadata": {},
   "outputs": [
    {
     "data": {
      "text/plain": [
       "-0.019490781428136723"
      ]
     },
     "execution_count": 124,
     "metadata": {},
     "output_type": "execute_result"
    }
   ],
   "source": [
    "cust_claims['total_policy_claims'] = pd.to_numeric(cust_claims['total_policy_claims'])\n",
    "cust_claims.total_policy_claims.corr(other= cust_claims.claim_amount)"
   ]
  },
  {
   "cell_type": "code",
   "execution_count": null,
   "id": "4a9ec447",
   "metadata": {},
   "outputs": [],
   "source": []
  }
 ],
 "metadata": {
  "kernelspec": {
   "display_name": "Python 3 (ipykernel)",
   "language": "python",
   "name": "python3"
  },
  "language_info": {
   "codemirror_mode": {
    "name": "ipython",
    "version": 3
   },
   "file_extension": ".py",
   "mimetype": "text/x-python",
   "name": "python",
   "nbconvert_exporter": "python",
   "pygments_lexer": "ipython3",
   "version": "3.10.9"
  }
 },
 "nbformat": 4,
 "nbformat_minor": 5
}
